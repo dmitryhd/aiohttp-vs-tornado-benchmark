{
 "cells": [
  {
   "cell_type": "markdown",
   "metadata": {},
   "source": [
    "- ./bin/sample_service.py # run service\n",
    "- locust -f benchmark/locustfile.py --host=http://127.0.0.1:8890  # run locust\n",
    "- open web ui http://127.0.0.1:8089/\n",
    "\n",
    "docs at https://docs.locust.io/en/stable/quickstart.html"
   ]
  },
  {
   "cell_type": "markdown",
   "metadata": {},
   "source": [
    "- `locust -f benchmark/sleep50_locust.py --master --host=http://127.0.0.1:8890`\n",
    "- `locust -f benchmark/sleep50_locust.py --slave --host=http://127.0.0.1:8890`"
   ]
  },
  {
   "cell_type": "markdown",
   "metadata": {},
   "source": [
    "\n",
    "go\n"
   ]
  },
  {
   "cell_type": "markdown",
   "metadata": {},
   "source": [
    "```\n",
    "locust -f benchmark/dummy.py --master --master-bind-host=127.0.0.1 --master-bind-port=5557\n",
    "\n",
    "cd benchmark/boomer\n",
    "go build -o a.out http_benchmark.go\n",
    "\n",
    "./a.out --url=http://127.0.0.1:8890/sleep50 --master-port=5557 --rpc=zeromq\n",
    "```"
   ]
  },
  {
   "cell_type": "markdown",
   "metadata": {},
   "source": [
    "https://docs.locust.io/en/latest/running-locust-without-web-ui.html"
   ]
  },
  {
   "cell_type": "code",
   "execution_count": 59,
   "metadata": {},
   "outputs": [],
   "source": [
    "master_locust = 'locust -f dummy.py --master --master-bind-host=127.0.0.1 --master-bind-port=5557 --no-web -c 10 -r 10 -n 1000 --expect-slaves 1'\n",
    "slave_locust = './a.out --url=http://127.0.0.1:8890/sleep50 --master-port=5557 --rpc=zeromq'"
   ]
  },
  {
   "cell_type": "code",
   "execution_count": 60,
   "metadata": {},
   "outputs": [],
   "source": [
    "csv_name = 'example'"
   ]
  },
  {
   "cell_type": "code",
   "execution_count": 61,
   "metadata": {},
   "outputs": [
    {
     "data": {
      "text/plain": [
       "'locust -f dummy.py --master --master-bind-host=127.0.0.1 --master-bind-port=5557 --no-web -c 10 -r 10 -n 1000 --expect-slaves 1 --csv=example'"
      ]
     },
     "execution_count": 61,
     "metadata": {},
     "output_type": "execute_result"
    }
   ],
   "source": [
    "master_locust += f' --csv={csv_name}'\n",
    "master_locust"
   ]
  },
  {
   "cell_type": "code",
   "execution_count": 62,
   "metadata": {},
   "outputs": [],
   "source": [
    "import subprocess\n",
    "import os"
   ]
  },
  {
   "cell_type": "code",
   "execution_count": 63,
   "metadata": {},
   "outputs": [],
   "source": [
    "def run(command: str):\n",
    "    p = subprocess.Popen(command.split(' '), stdout=subprocess.PIPE, stderr=subprocess.PIPE)\n",
    "    while True:\n",
    "        retcode = p.poll() #returns None while subprocess is running\n",
    "        if retcode is not None:\n",
    "            print(f'retcode: {retcode}')\n",
    "            print(command)\n",
    "            print_process_output(p)\n",
    "            break\n",
    "        print_process_output(p)\n",
    "            \n",
    "def print_process_output(p):\n",
    "    out = ''\n",
    "    for l in p.stdout.readlines():\n",
    "        if l:\n",
    "            out += l.decode('utf-8') + '\\n'\n",
    "    for l in p.stderr.readlines():\n",
    "        if l:\n",
    "            out += l.decode('utf-8') + '\\n'\n",
    "    if out:\n",
    "        print(out)    "
   ]
  },
  {
   "cell_type": "code",
   "execution_count": 64,
   "metadata": {},
   "outputs": [
    {
     "name": "stdout",
     "output_type": "stream",
     "text": [
      "retcode: 0\n",
      "go get github.com/myzhan/boomer\n",
      "retcode: 0\n",
      "go build -o a.out http_benchmark.go\n"
     ]
    }
   ],
   "source": [
    "run('go get github.com/myzhan/boomer')\n",
    "run('go build -o a.out http_benchmark.go')"
   ]
  },
  {
   "cell_type": "code",
   "execution_count": 65,
   "metadata": {},
   "outputs": [],
   "source": [
    "import threading\n",
    "import time"
   ]
  },
  {
   "cell_type": "code",
   "execution_count": 66,
   "metadata": {},
   "outputs": [
    {
     "data": {
      "text/plain": [
       "(True, True)"
      ]
     },
     "execution_count": 66,
     "metadata": {},
     "output_type": "execute_result"
    },
    {
     "name": "stdout",
     "output_type": "stream",
     "text": [
      "flag provided but not defined: -master-port\n",
      "\n",
      "Usage of ./a.out:\n",
      "\n",
      "  -content-type string\n",
      "\n",
      "    \tContent-type header (default \"text/plain\")\n",
      "\n",
      "  -disable-compression\n",
      "\n",
      "    \tDisable compression\n",
      "\n",
      "  -disable-keepalive\n",
      "\n",
      "    \tDisable keepalive\n",
      "\n",
      "  -method string\n",
      "\n",
      "    \tHTTP method, one of GET, POST (default \"GET\")\n",
      "\n",
      "  -post-file string\n",
      "\n",
      "    \tFile containing data to POST. Remember also to set --content-type\n",
      "\n",
      "  -timeout int\n",
      "\n",
      "    \tSeconds to max. wait for each response (default 10)\n",
      "\n",
      "  -url string\n",
      "\n",
      "    \tURL\n",
      "\n",
      "  -verbose\n",
      "\n",
      "    \tPrint debug log\n",
      "\n",
      "\n",
      "retcode: 2\n",
      "./a.out --url=http://127.0.0.1:8890/sleep50 --master-port=5557 --rpc=zeromq\n"
     ]
    }
   ],
   "source": [
    "master = threading.Thread(target=run, args=(master_locust,))\n",
    "master.daemon = True\n",
    "slave = threading.Thread(target=run, args=(slave_locust,))\n",
    "slave.daemon = True\n",
    "master.start()\n",
    "time.sleep(0.5)\n",
    "slave.start()\n",
    "\n",
    "master.isAlive(), slave.isAlive()"
   ]
  },
  {
   "cell_type": "code",
   "execution_count": 37,
   "metadata": {},
   "outputs": [
    {
     "data": {
      "text/plain": [
       "(False, False)"
      ]
     },
     "execution_count": 37,
     "metadata": {},
     "output_type": "execute_result"
    }
   ],
   "source": [
    "master.isAlive(), slave.isAlive()"
   ]
  },
  {
   "cell_type": "code",
   "execution_count": 38,
   "metadata": {},
   "outputs": [
    {
     "name": "stdout",
     "output_type": "stream",
     "text": [
      "\u001b[31ma.out\u001b[m\u001b[m             http_benchmark.go locust.ipynb\r\n",
      "dummy.py          info_locust.py    sleep50_locust.py\r\n"
     ]
    }
   ],
   "source": [
    "!ls"
   ]
  },
  {
   "cell_type": "code",
   "execution_count": null,
   "metadata": {},
   "outputs": [],
   "source": [
    "master."
   ]
  }
 ],
 "metadata": {
  "kernelspec": {
   "display_name": "Python 3",
   "language": "python",
   "name": "python3"
  },
  "language_info": {
   "codemirror_mode": {
    "name": "ipython",
    "version": 3
   },
   "file_extension": ".py",
   "mimetype": "text/x-python",
   "name": "python",
   "nbconvert_exporter": "python",
   "pygments_lexer": "ipython3",
   "version": "3.6.4"
  },
  "toc": {
   "nav_menu": {},
   "number_sections": false,
   "sideBar": true,
   "skip_h1_title": false,
   "toc_cell": false,
   "toc_position": {},
   "toc_section_display": "block",
   "toc_window_display": false
  },
  "varInspector": {
   "cols": {
    "lenName": 16,
    "lenType": 16,
    "lenVar": 40
   },
   "kernels_config": {
    "python": {
     "delete_cmd_postfix": "",
     "delete_cmd_prefix": "del ",
     "library": "var_list.py",
     "varRefreshCmd": "print(var_dic_list())"
    },
    "r": {
     "delete_cmd_postfix": ") ",
     "delete_cmd_prefix": "rm(",
     "library": "var_list.r",
     "varRefreshCmd": "cat(var_dic_list()) "
    }
   },
   "types_to_exclude": [
    "module",
    "function",
    "builtin_function_or_method",
    "instance",
    "_Feature"
   ],
   "window_display": false
  }
 },
 "nbformat": 4,
 "nbformat_minor": 2
}

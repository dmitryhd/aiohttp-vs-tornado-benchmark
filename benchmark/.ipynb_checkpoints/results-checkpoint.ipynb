{
 "cells": [
  {
   "cell_type": "code",
   "execution_count": 45,
   "metadata": {
    "ExecuteTime": {
     "end_time": "2018-06-28T06:01:56.147749Z",
     "start_time": "2018-06-28T06:01:56.143573Z"
    }
   },
   "outputs": [],
   "source": [
    "import pandas as pd"
   ]
  },
  {
   "cell_type": "code",
   "execution_count": 46,
   "metadata": {
    "ExecuteTime": {
     "end_time": "2018-06-28T06:01:56.312102Z",
     "start_time": "2018-06-28T06:01:56.309501Z"
    }
   },
   "outputs": [],
   "source": [
    "# (sleep 1; ./benchmark/boomer/a.out --url=http://127.0.0.1:8890/sleep50 --master-port=5557 --rpc=zeromq)&; locust -f benchmark/dummy.py --master --master-bind-host=127.0.0.1 --master-bind-port=5557 --no-web -c 100 -r 100"
   ]
  },
  {
   "cell_type": "code",
   "execution_count": 47,
   "metadata": {
    "ExecuteTime": {
     "end_time": "2018-06-28T06:01:56.489884Z",
     "start_time": "2018-06-28T06:01:56.456049Z"
    }
   },
   "outputs": [
    {
     "data": {
      "text/html": [
       "<div>\n",
       "<style scoped>\n",
       "    .dataframe tbody tr th:only-of-type {\n",
       "        vertical-align: middle;\n",
       "    }\n",
       "\n",
       "    .dataframe tbody tr th {\n",
       "        vertical-align: top;\n",
       "    }\n",
       "\n",
       "    .dataframe thead th {\n",
       "        text-align: right;\n",
       "    }\n",
       "</style>\n",
       "<table border=\"1\" class=\"dataframe\">\n",
       "  <thead>\n",
       "    <tr style=\"text-align: right;\">\n",
       "      <th></th>\n",
       "      <th>framework</th>\n",
       "      <th>handler</th>\n",
       "      <th>ncoro</th>\n",
       "      <th>50% ms</th>\n",
       "      <th>66% ms</th>\n",
       "      <th>75% ms</th>\n",
       "      <th>80% ms</th>\n",
       "      <th>90% ms</th>\n",
       "      <th>95% ms</th>\n",
       "      <th>98% ms</th>\n",
       "      <th>99% ms</th>\n",
       "      <th>100% ms</th>\n",
       "      <th>rps</th>\n",
       "    </tr>\n",
       "  </thead>\n",
       "  <tbody>\n",
       "    <tr>\n",
       "      <th>0</th>\n",
       "      <td>bare tornado</td>\n",
       "      <td>sleep 50ms</td>\n",
       "      <td>100</td>\n",
       "      <td>67</td>\n",
       "      <td>68</td>\n",
       "      <td>68</td>\n",
       "      <td>68</td>\n",
       "      <td>70</td>\n",
       "      <td>73</td>\n",
       "      <td>75</td>\n",
       "      <td>78</td>\n",
       "      <td>157</td>\n",
       "      <td>1455.80</td>\n",
       "    </tr>\n",
       "    <tr>\n",
       "      <th>1</th>\n",
       "      <td>bare tornado</td>\n",
       "      <td>sleep 50ms</td>\n",
       "      <td>150</td>\n",
       "      <td>98</td>\n",
       "      <td>98</td>\n",
       "      <td>99</td>\n",
       "      <td>99</td>\n",
       "      <td>100</td>\n",
       "      <td>110</td>\n",
       "      <td>110</td>\n",
       "      <td>110</td>\n",
       "      <td>219</td>\n",
       "      <td>1493.67</td>\n",
       "    </tr>\n",
       "    <tr>\n",
       "      <th>2</th>\n",
       "      <td>bare tornado uvloop</td>\n",
       "      <td>sleep 50ms</td>\n",
       "      <td>150</td>\n",
       "      <td>98</td>\n",
       "      <td>98</td>\n",
       "      <td>99</td>\n",
       "      <td>99</td>\n",
       "      <td>100</td>\n",
       "      <td>110</td>\n",
       "      <td>110</td>\n",
       "      <td>110</td>\n",
       "      <td>219</td>\n",
       "      <td>1500</td>\n",
       "    </tr>\n",
       "    <tr>\n",
       "      <th>3</th>\n",
       "      <td>avio</td>\n",
       "      <td>sleep 50ms</td>\n",
       "      <td>100</td>\n",
       "      <td>56</td>\n",
       "      <td>58</td>\n",
       "      <td>59</td>\n",
       "      <td>60</td>\n",
       "      <td>63</td>\n",
       "      <td>67</td>\n",
       "      <td>71</td>\n",
       "      <td>74</td>\n",
       "      <td>104</td>\n",
       "      <td>1786.00</td>\n",
       "    </tr>\n",
       "    <tr>\n",
       "      <th>4</th>\n",
       "      <td>avio</td>\n",
       "      <td>sleep 50ms</td>\n",
       "      <td>150</td>\n",
       "      <td>62</td>\n",
       "      <td>63</td>\n",
       "      <td>63</td>\n",
       "      <td>63</td>\n",
       "      <td>65</td>\n",
       "      <td>66</td>\n",
       "      <td>68</td>\n",
       "      <td>71</td>\n",
       "      <td>119</td>\n",
       "      <td>2421.30</td>\n",
       "    </tr>\n",
       "    <tr>\n",
       "      <th>5</th>\n",
       "      <td>avio</td>\n",
       "      <td>sleep 50ms</td>\n",
       "      <td>200</td>\n",
       "      <td>88</td>\n",
       "      <td>89</td>\n",
       "      <td>89</td>\n",
       "      <td>90</td>\n",
       "      <td>91</td>\n",
       "      <td>92</td>\n",
       "      <td>97</td>\n",
       "      <td>100</td>\n",
       "      <td>133</td>\n",
       "      <td>2310.80</td>\n",
       "    </tr>\n",
       "  </tbody>\n",
       "</table>\n",
       "</div>"
      ],
      "text/plain": [
       "             framework     handler  ncoro 50% ms 66% ms 75% ms 80% ms 90% ms  \\\n",
       "0         bare tornado  sleep 50ms    100     67     68     68     68     70   \n",
       "1         bare tornado  sleep 50ms    150     98     98     99     99    100   \n",
       "2  bare tornado uvloop  sleep 50ms    150     98     98     99     99    100   \n",
       "3                 avio  sleep 50ms    100     56     58     59     60     63   \n",
       "4                 avio  sleep 50ms    150     62     63     63     63     65   \n",
       "5                 avio  sleep 50ms    200     88     89     89     90     91   \n",
       "\n",
       "  95% ms 98% ms 99% ms 100% ms      rps  \n",
       "0     73     75     78     157  1455.80  \n",
       "1    110    110    110     219  1493.67  \n",
       "2    110    110    110     219     1500  \n",
       "3     67     71     74     104  1786.00  \n",
       "4     66     68     71     119  2421.30  \n",
       "5     92     97    100     133  2310.80  "
      ]
     },
     "execution_count": 47,
     "metadata": {},
     "output_type": "execute_result"
    }
   ],
   "source": [
    "columns=[\n",
    "    'framework', 'handler', 'ncoro', \n",
    "    '50% ms', '66% ms', '75% ms', '80% ms', '90% ms', '95% ms', '98% ms', '99% ms', '100% ms',  #9\n",
    "    'rps'\n",
    "]\n",
    "\n",
    "data = [\n",
    "    ['bare tornado', 'sleep 50ms', 100, '67     68     68     68     70     73     75     78    157 1455.80'.split()],\n",
    "    ['bare tornado', 'sleep 50ms', 150, '98     98     99     99    100    110    110    110    219 1493.67'.split()],\n",
    "    ['bare tornado uvloop', 'sleep 50ms', 150, '98     98     99     99    100    110    110    110    219 1500'.split()],\n",
    "]\n",
    "\n",
    "#data.extend([\n",
    "#    ['bare aiohttp', 'sleep 50ms', 100, 0, 0, 0, 0, 0],\n",
    "#])\n",
    "\n",
    "data.extend([\n",
    "    ['avio', 'sleep 50ms', 100, '56     58     59     60     63     67     71     74    104 1786.00'.split()],\n",
    "    ['avio', 'sleep 50ms', 150, '62     63     63     63     65     66     68     71    119 2421.30'.split()],\n",
    "    ['avio', 'sleep 50ms', 200, '88     89     89     90     91     92     97    100    133 2310.80'.split()],\n",
    "])\n",
    "\n",
    "ar = []\n",
    "for r in data:\n",
    "    r1 = r[:3]\n",
    "    r1.extend(r[3])\n",
    "    ar.append(r1)\n",
    "\n",
    "df.from_records(ar, columns=columns)"
   ]
  },
  {
   "cell_type": "code",
   "execution_count": null,
   "metadata": {},
   "outputs": [],
   "source": []
  }
 ],
 "metadata": {
  "kernelspec": {
   "display_name": "Python 3",
   "language": "python",
   "name": "python3"
  },
  "language_info": {
   "codemirror_mode": {
    "name": "ipython",
    "version": 3
   },
   "file_extension": ".py",
   "mimetype": "text/x-python",
   "name": "python",
   "nbconvert_exporter": "python",
   "pygments_lexer": "ipython3",
   "version": "3.6.4"
  },
  "toc": {
   "nav_menu": {},
   "number_sections": false,
   "sideBar": true,
   "skip_h1_title": false,
   "toc_cell": false,
   "toc_position": {},
   "toc_section_display": "block",
   "toc_window_display": false
  },
  "varInspector": {
   "cols": {
    "lenName": 16,
    "lenType": 16,
    "lenVar": 40
   },
   "kernels_config": {
    "python": {
     "delete_cmd_postfix": "",
     "delete_cmd_prefix": "del ",
     "library": "var_list.py",
     "varRefreshCmd": "print(var_dic_list())"
    },
    "r": {
     "delete_cmd_postfix": ") ",
     "delete_cmd_prefix": "rm(",
     "library": "var_list.r",
     "varRefreshCmd": "cat(var_dic_list()) "
    }
   },
   "types_to_exclude": [
    "module",
    "function",
    "builtin_function_or_method",
    "instance",
    "_Feature"
   ],
   "window_display": false
  }
 },
 "nbformat": 4,
 "nbformat_minor": 2
}

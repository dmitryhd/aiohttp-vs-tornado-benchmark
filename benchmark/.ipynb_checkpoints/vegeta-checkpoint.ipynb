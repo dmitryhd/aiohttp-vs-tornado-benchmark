{
 "cells": [
  {
   "cell_type": "code",
   "execution_count": 13,
   "metadata": {},
   "outputs": [],
   "source": [
    "import os\n",
    "import subprocess"
   ]
  },
  {
   "cell_type": "code",
   "execution_count": 82,
   "metadata": {},
   "outputs": [],
   "source": [
    "exp_name = 'v1'\n",
    "dump_file = f'/tmp/{exp_name}.bin'\n",
    "out_csv = f'/tmp/{exp_name}.csv'\n",
    "rps = 100\n",
    "duration_sec = 5\n",
    "\n",
    "run_vegeta = f\"\"\"\n",
    "    echo 'GET http://localhost:8890/sleep50' | vegeta -cpus 1 attack -rate {rps} -duration {duration_sec}s -timeout 1s -name {exp_name} -workers 1 > {dump_file}\n",
    "\"\"\"\n",
    "show_plot = f\"cat {dump_file} | vegeta report -reporter plot > /tmp/plot.html; open /tmp/plot.html\"\n",
    "print_report = f\"cat {dump_file} | vegeta report -reporter text > /tmp/res.txt\""
   ]
  },
  {
   "cell_type": "code",
   "execution_count": 83,
   "metadata": {},
   "outputs": [
    {
     "data": {
      "text/plain": [
       "CompletedProcess(args=\"\\n    echo 'GET http://localhost:8890/sleep50' | vegeta -cpus 1 attack -rate 100 -duration 5s -timeout 1s -name v1 -workers 1 > /tmp/v1.bin\\n\", returncode=0)"
      ]
     },
     "execution_count": 83,
     "metadata": {},
     "output_type": "execute_result"
    }
   ],
   "source": [
    "subprocess.run(run_vegeta, shell=True)"
   ]
  },
  {
   "cell_type": "code",
   "execution_count": 86,
   "metadata": {},
   "outputs": [],
   "source": [
    "#os.system(show_plot)"
   ]
  },
  {
   "cell_type": "code",
   "execution_count": 87,
   "metadata": {},
   "outputs": [],
   "source": [
    "# subprocess.run(show_plot, shell=True)"
   ]
  },
  {
   "cell_type": "code",
   "execution_count": 88,
   "metadata": {},
   "outputs": [
    {
     "name": "stdout",
     "output_type": "stream",
     "text": [
      "Requests      [total, rate]            500, 100.17\n",
      "Duration      [total, attack, wait]    5.045761711s, 4.991683455s, 54.078256ms\n",
      "Latencies     [mean, 50, 95, 99, max]  51.817614ms, 51.764014ms, 53.087863ms, 53.663103ms, 55.133292ms\n",
      "Bytes In      [total, mean]            1000, 2.00\n",
      "Bytes Out     [total, mean]            0, 0.00\n",
      "Success       [ratio]                  100.00%\n",
      "Status Codes  [code:count]             200:500  \n",
      "Error Set:\n",
      "\n"
     ]
    }
   ],
   "source": [
    "subprocess.run(print_report, shell=True)\n",
    "print(open('/tmp/res.txt').read())"
   ]
  },
  {
   "cell_type": "code",
   "execution_count": 89,
   "metadata": {},
   "outputs": [
    {
     "data": {
      "text/plain": [
       "CompletedProcess(args='vegeta dump -inputs /tmp/v1.bin -output /tmp/v1.csv -dumper csv', returncode=0)"
      ]
     },
     "execution_count": 89,
     "metadata": {},
     "output_type": "execute_result"
    }
   ],
   "source": [
    "dump_ext = f\"vegeta dump -inputs {dump_file} -output {out_csv} -dumper csv\"\n",
    "subprocess.run(dump_ext, shell=True)"
   ]
  },
  {
   "cell_type": "code",
   "execution_count": 90,
   "metadata": {},
   "outputs": [],
   "source": [
    "import pandas as pd"
   ]
  },
  {
   "cell_type": "code",
   "execution_count": 91,
   "metadata": {},
   "outputs": [],
   "source": [
    "def read_experiment(csv_path: str, warmup_time_sec = 0.2) -> pd.DataFrame:\n",
    "    names = ['unix_ts_ns', 'http_code', 'latency_ns', 'bytes_out', 'bytes_in', 'x', 'error', 'exp_name', 'y']\n",
    "    data = pd.read_csv(out_csv, header=None, names=names)\n",
    "    del data['error']\n",
    "    del data['x']\n",
    "    del data['y']\n",
    "    del data['bytes_out']\n",
    "    del data['bytes_in']\n",
    "    begin_ts_ns = data.unix_ts_ns.min()\n",
    "    exp_start_ts_ns = begin_ts_ns + int(warmup_time_sec * 1_000_000_000)\n",
    "    data = data[data.unix_ts_ns > exp_start_ts_ns]\n",
    "    data.reset_index(drop=True, inplace=True)\n",
    "    data['latency_ms'] = (data['latency_ns'] / 1_000_000).round(2)\n",
    "    del data['unix_ts_ns']\n",
    "    del data['latency_ns']\n",
    "    return data"
   ]
  },
  {
   "cell_type": "code",
   "execution_count": 92,
   "metadata": {},
   "outputs": [],
   "source": [
    "exp_data = read_experiment(out_csv, warmup_time_sec=1)"
   ]
  },
  {
   "cell_type": "code",
   "execution_count": 93,
   "metadata": {},
   "outputs": [
    {
     "data": {
      "text/html": [
       "<div>\n",
       "<style scoped>\n",
       "    .dataframe tbody tr th:only-of-type {\n",
       "        vertical-align: middle;\n",
       "    }\n",
       "\n",
       "    .dataframe tbody tr th {\n",
       "        vertical-align: top;\n",
       "    }\n",
       "\n",
       "    .dataframe thead th {\n",
       "        text-align: right;\n",
       "    }\n",
       "</style>\n",
       "<table border=\"1\" class=\"dataframe\">\n",
       "  <thead>\n",
       "    <tr style=\"text-align: right;\">\n",
       "      <th></th>\n",
       "      <th>http_code</th>\n",
       "      <th>exp_name</th>\n",
       "      <th>latency_ms</th>\n",
       "    </tr>\n",
       "  </thead>\n",
       "  <tbody>\n",
       "    <tr>\n",
       "      <th>0</th>\n",
       "      <td>200</td>\n",
       "      <td>v1</td>\n",
       "      <td>52.24</td>\n",
       "    </tr>\n",
       "    <tr>\n",
       "      <th>1</th>\n",
       "      <td>200</td>\n",
       "      <td>v1</td>\n",
       "      <td>52.12</td>\n",
       "    </tr>\n",
       "    <tr>\n",
       "      <th>2</th>\n",
       "      <td>200</td>\n",
       "      <td>v1</td>\n",
       "      <td>52.70</td>\n",
       "    </tr>\n",
       "    <tr>\n",
       "      <th>3</th>\n",
       "      <td>200</td>\n",
       "      <td>v1</td>\n",
       "      <td>52.38</td>\n",
       "    </tr>\n",
       "    <tr>\n",
       "      <th>4</th>\n",
       "      <td>200</td>\n",
       "      <td>v1</td>\n",
       "      <td>51.89</td>\n",
       "    </tr>\n",
       "  </tbody>\n",
       "</table>\n",
       "</div>"
      ],
      "text/plain": [
       "   http_code exp_name  latency_ms\n",
       "0        200       v1       52.24\n",
       "1        200       v1       52.12\n",
       "2        200       v1       52.70\n",
       "3        200       v1       52.38\n",
       "4        200       v1       51.89"
      ]
     },
     "execution_count": 93,
     "metadata": {},
     "output_type": "execute_result"
    }
   ],
   "source": [
    "exp_data.head()"
   ]
  },
  {
   "cell_type": "code",
   "execution_count": 94,
   "metadata": {},
   "outputs": [
    {
     "data": {
      "image/png": "[encoded data removed]",
      "text/plain": [
       "<Figure size 432x288 with 1 Axes>"
      ]
     },
     "metadata": {},
     "output_type": "display_data"
    }
   ],
   "source": [
    "import seaborn as sns\n",
    "sns.set(style='whitegrid')\n",
    "ax = sns.boxplot(x='latency_ms', y='exp_name', data=exp_data)"
   ]
  },
  {
   "cell_type": "code",
   "execution_count": null,
   "metadata": {},
   "outputs": [],
   "source": []
  }
 ],
 "metadata": {
  "kernelspec": {
   "display_name": "Python 3",
   "language": "python",
   "name": "python3"
  },
  "language_info": {
   "codemirror_mode": {
    "name": "ipython",
    "version": 3
   },
   "file_extension": ".py",
   "mimetype": "text/x-python",
   "name": "python",
   "nbconvert_exporter": "python",
   "pygments_lexer": "ipython3",
   "version": "3.6.5"
  }
 },
 "nbformat": 4,
 "nbformat_minor": 2
}

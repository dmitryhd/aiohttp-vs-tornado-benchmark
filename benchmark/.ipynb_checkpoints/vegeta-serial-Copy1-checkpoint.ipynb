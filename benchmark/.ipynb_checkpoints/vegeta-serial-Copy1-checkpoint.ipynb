{
 "cells": [
  {
   "cell_type": "code",
   "execution_count": 9,
   "metadata": {},
   "outputs": [],
   "source": [
    "import os\n",
    "import subprocess\n",
    "import pandas as pd\n",
    "import time\n",
    "import seaborn as sns\n",
    "sns.set(style='whitegrid')\n",
    "sns.set(rc={'figure.figsize':(11.7, 8.27)})"
   ]
  },
  {
   "cell_type": "code",
   "execution_count": 10,
   "metadata": {},
   "outputs": [],
   "source": [
    "def run_experiment(exp_name: str, rps=100, duration_sec=5) -> str:\n",
    "    dump_file = f'/tmp/{exp_name}.bin'\n",
    "    out_csv = f'/tmp/{exp_name}.csv'\n",
    "\n",
    "    run_vegeta = f\"echo 'GET http://localhost:8890/sleep50' | vegeta -cpus 1 attack -rate {rps} -duration {duration_sec}s -timeout 1s -name {exp_name} -workers 1 > {dump_file}\"\n",
    "    #show_plot = f\"cat {dump_file} | vegeta report -reporter plot > /tmp/plot.html; open /tmp/plot.html\"    \n",
    "    print(subprocess.run(run_vegeta, shell=True))\n",
    "    print('---'*10)\n",
    "    print_report = f\"cat {dump_file} | vegeta report -reporter text > /tmp/res.txt\"\n",
    "    subprocess.run(print_report, shell=True)\n",
    "    print(open('/tmp/res.txt').read())\n",
    "\n",
    "def read_experiment(csv_path: str, warmup_time_sec = 0.2) -> pd.DataFrame:\n",
    "    names = ['unix_ts_ns', 'http_code', 'latency_ns', 'bytes_out', 'bytes_in', 'x', 'error', 'exp_name', 'y']\n",
    "    data = pd.read_csv(csv_path, header=None, names=names)\n",
    "    del data['error']\n",
    "    del data['x']\n",
    "    del data['y']\n",
    "    del data['bytes_out']\n",
    "    del data['bytes_in']\n",
    "    begin_ts_ns = data.unix_ts_ns.min()\n",
    "    exp_start_ts_ns = begin_ts_ns + int(warmup_time_sec * 1_000_000_000)\n",
    "    data = data[data.unix_ts_ns > exp_start_ts_ns]\n",
    "    data.reset_index(drop=True, inplace=True)\n",
    "    data['latency_ms'] = (data['latency_ns'] / 1_000_000).round(2)\n",
    "    del data['unix_ts_ns']\n",
    "    del data['latency_ns']\n",
    "    return data\n",
    "\n",
    "def aggr_exp(exp_names: list) -> str:\n",
    "    out_csv = f'/tmp/out.csv'\n",
    "    dump_files = ','.join([f'/tmp/{exp_name}.bin' for exp_name in exp_names])\n",
    "    dump_ext = f\"vegeta dump -inputs {dump_files} -output {out_csv} -dumper csv\"\n",
    "    print(subprocess.run(dump_ext, shell=True))\n",
    "    return out_csv\n",
    "\n",
    "def plot_exp_data(exp_data):\n",
    "    ax = sns.boxplot(x='latency_ms', y='exp_name', data=exp_data)\n",
    "\n",
    "def latency_table(exp_data):\n",
    "    a = exp_data.groupby('exp_name').quantile([.95, .98, .99])\n",
    "    a = a.reset_index().pivot(index='exp_name', columns='level_1', values='latency_ms')\n",
    "    a = a.round(1)\n",
    "    df = a.reset_index()\n",
    "    df['exp_name'], df['rps'] = df.exp_name.str.split('_rps_').str\n",
    "    df['rps'] = df['rps'].astype(int)\n",
    "    df.sort_values('rps', inplace=True)\n",
    "    df.reset_index(drop=True, inplace=True)\n",
    "    df = df[['rps','exp_name', 0.95, 0.98, 0.99]]\n",
    "    return df.set_index('rps', drop=True)"
   ]
  },
  {
   "cell_type": "code",
   "execution_count": 11,
   "metadata": {},
   "outputs": [
    {
     "name": "stdout",
     "output_type": "stream",
     "text": [
      "CompletedProcess(args=\"echo 'GET http://localhost:8890/sleep50' | vegeta -cpus 1 attack -rate 100 -duration 5s -timeout 1s -name aiohttp_sleep_50_rps_100 -workers 1 > /tmp/aiohttp_sleep_50_rps_100.bin\", returncode=0)\n",
      "------------------------------\n",
      "Requests      [total, rate]            500, 100.18\n",
      "Duration      [total, attack, wait]    4.990788706s, 4.990788706s, 0s\n",
      "Latencies     [mean, 50, 95, 99, max]  0s, 0s, 0s, 0s, 0s\n",
      "Bytes In      [total, mean]            0, 0.00\n",
      "Bytes Out     [total, mean]            0, 0.00\n",
      "Success       [ratio]                  0.00%\n",
      "Status Codes  [code:count]             0:500  \n",
      "Error Set:\n",
      "Get http://localhost:8890/sleep50: dial tcp 0.0.0.0:0->[::1]:8890: connect: connection refused\n",
      "Get http://localhost:8890/sleep50: dial tcp 0.0.0.0:0->127.0.0.1:8890: i/o timeout\n",
      "Get http://localhost:8890/sleep50: dial tcp 0.0.0.0:0->[::1]:8890: i/o timeout\n",
      "\n"
     ]
    }
   ],
   "source": [
    "exp_name = 'aiohttp_sleep_50_rps_100'\n",
    "run_experiment(exp_name)"
   ]
  },
  {
   "cell_type": "code",
   "execution_count": 12,
   "metadata": {},
   "outputs": [
    {
     "name": "stdout",
     "output_type": "stream",
     "text": [
      "CompletedProcess(args='vegeta dump -inputs /tmp/aiohttp_sleep_50_rps_100.bin -output /tmp/out.csv -dumper csv', returncode=0)\n"
     ]
    },
    {
     "data": {
      "text/html": [
       "<div>\n",
       "<style scoped>\n",
       "    .dataframe tbody tr th:only-of-type {\n",
       "        vertical-align: middle;\n",
       "    }\n",
       "\n",
       "    .dataframe tbody tr th {\n",
       "        vertical-align: top;\n",
       "    }\n",
       "\n",
       "    .dataframe thead th {\n",
       "        text-align: right;\n",
       "    }\n",
       "</style>\n",
       "<table border=\"1\" class=\"dataframe\">\n",
       "  <thead>\n",
       "    <tr style=\"text-align: right;\">\n",
       "      <th></th>\n",
       "      <th>http_code</th>\n",
       "      <th>exp_name</th>\n",
       "      <th>latency_ms</th>\n",
       "    </tr>\n",
       "  </thead>\n",
       "  <tbody>\n",
       "    <tr>\n",
       "      <th>0</th>\n",
       "      <td>0</td>\n",
       "      <td>aiohttp_sleep_50_rps_100</td>\n",
       "      <td>0.0</td>\n",
       "    </tr>\n",
       "    <tr>\n",
       "      <th>1</th>\n",
       "      <td>0</td>\n",
       "      <td>aiohttp_sleep_50_rps_100</td>\n",
       "      <td>0.0</td>\n",
       "    </tr>\n",
       "    <tr>\n",
       "      <th>2</th>\n",
       "      <td>0</td>\n",
       "      <td>aiohttp_sleep_50_rps_100</td>\n",
       "      <td>0.0</td>\n",
       "    </tr>\n",
       "    <tr>\n",
       "      <th>3</th>\n",
       "      <td>0</td>\n",
       "      <td>aiohttp_sleep_50_rps_100</td>\n",
       "      <td>0.0</td>\n",
       "    </tr>\n",
       "    <tr>\n",
       "      <th>4</th>\n",
       "      <td>0</td>\n",
       "      <td>aiohttp_sleep_50_rps_100</td>\n",
       "      <td>0.0</td>\n",
       "    </tr>\n",
       "  </tbody>\n",
       "</table>\n",
       "</div>"
      ],
      "text/plain": [
       "   http_code                  exp_name  latency_ms\n",
       "0          0  aiohttp_sleep_50_rps_100         0.0\n",
       "1          0  aiohttp_sleep_50_rps_100         0.0\n",
       "2          0  aiohttp_sleep_50_rps_100         0.0\n",
       "3          0  aiohttp_sleep_50_rps_100         0.0\n",
       "4          0  aiohttp_sleep_50_rps_100         0.0"
      ]
     },
     "execution_count": 12,
     "metadata": {},
     "output_type": "execute_result"
    },
    {
     "data": {
      "image/png": "[encoded data removed]",
      "text/plain": [
       "<Figure size 842.4x595.44 with 1 Axes>"
      ]
     },
     "metadata": {},
     "output_type": "display_data"
    }
   ],
   "source": [
    "csv_file = aggr_exp([exp_name])\n",
    "exp_data = read_experiment(csv_file, warmup_time_sec=1)\n",
    "plot_exp_data(exp_data)\n",
    "exp_data.head()"
   ]
  },
  {
   "cell_type": "code",
   "execution_count": 13,
   "metadata": {},
   "outputs": [],
   "source": [
    "exp_names = []"
   ]
  },
  {
   "cell_type": "code",
   "execution_count": 14,
   "metadata": {},
   "outputs": [],
   "source": [
    "rps_list = [750, 1000, 1250]"
   ]
  },
  {
   "cell_type": "code",
   "execution_count": 15,
   "metadata": {},
   "outputs": [],
   "source": [
    "from multiprocessing import Process\n",
    "import signal"
   ]
  },
  {
   "cell_type": "markdown",
   "metadata": {},
   "source": [
    "# Asyncio 50ms"
   ]
  },
  {
   "cell_type": "code",
   "execution_count": 16,
   "metadata": {},
   "outputs": [],
   "source": [
    "WAIT_SEC = 1\n",
    "\n",
    "def benchmark(start_server, exp_name: str, rps_list: list, exp_names: list):\n",
    "    exp_name_ = exp_name\n",
    "    new_exp_names = []\n",
    "    for rps in rps_list:\n",
    "        \n",
    "        p = Process(target=subprocess.run, args=(start_server, ), kwargs={'shell': True})\n",
    "        p.start()\n",
    "        \n",
    "        exp_name = f'{exp_name_}_rps_{rps}'\n",
    "        exp_names.append(exp_name)\n",
    "        new_exp_names.append(exp_name)\n",
    "        run_experiment(exp_name, rps=rps)\n",
    "        \n",
    "        time.sleep(WAIT_SEC)\n",
    "        os.kill(p.pid, signal.SIGINT)\n",
    "        time.sleep(WAIT_SEC)\n",
    "        p.terminate()\n",
    "        time.sleep(WAIT_SEC)\n",
    "\n",
    "    return new_exp_names"
   ]
  },
  {
   "cell_type": "code",
   "execution_count": 17,
   "metadata": {
    "scrolled": true
   },
   "outputs": [
    {
     "name": "stdout",
     "output_type": "stream",
     "text": [
      "CompletedProcess(args=\"echo 'GET http://localhost:8890/sleep50' | vegeta -cpus 1 attack -rate 750 -duration 5s -timeout 1s -name aiohttp_sleep_50_rps_750 -workers 1 > /tmp/aiohttp_sleep_50_rps_750.bin\", returncode=0)\n",
      "------------------------------\n",
      "Requests      [total, rate]            3750, 750.01\n",
      "Duration      [total, attack, wait]    5.050988841s, 4.999957131s, 51.03171ms\n",
      "Latencies     [mean, 50, 95, 99, max]  50.760218ms, 51.038218ms, 51.489718ms, 53.706839ms, 98.57059ms\n",
      "Bytes In      [total, mean]            0, 0.00\n",
      "Bytes Out     [total, mean]            0, 0.00\n",
      "Success       [ratio]                  99.23%\n",
      "Status Codes  [code:count]             0:29  200:3721  \n",
      "Error Set:\n",
      "Get http://localhost:8890/sleep50: dial tcp 0.0.0.0:0->[::1]:8890: connect: connection refused\n",
      "\n"
     ]
    },
    {
     "name": "stderr",
     "output_type": "stream",
     "text": [
      "Process Process-1:\n",
      "Traceback (most recent call last):\n",
      "  File \"/Users/dyukhodakov/.pyenv/versions/3.6.5/lib/python3.6/multiprocessing/process.py\", line 258, in _bootstrap\n",
      "    self.run()\n",
      "  File \"/Users/dyukhodakov/.pyenv/versions/3.6.5/lib/python3.6/multiprocessing/process.py\", line 93, in run\n",
      "    self._target(*self._args, **self._kwargs)\n",
      "  File \"/Users/dyukhodakov/.pyenv/versions/3.6.5/lib/python3.6/subprocess.py\", line 405, in run\n",
      "    stdout, stderr = process.communicate(input, timeout=timeout)\n",
      "  File \"/Users/dyukhodakov/.pyenv/versions/3.6.5/lib/python3.6/subprocess.py\", line 835, in communicate\n",
      "    self.wait()\n",
      "  File \"/Users/dyukhodakov/.pyenv/versions/3.6.5/lib/python3.6/subprocess.py\", line 1457, in wait\n",
      "    (pid, sts) = self._try_wait(0)\n",
      "  File \"/Users/dyukhodakov/.pyenv/versions/3.6.5/lib/python3.6/subprocess.py\", line 1404, in _try_wait\n",
      "    (pid, sts) = os.waitpid(self.pid, wait_flags)\n",
      "KeyboardInterrupt\n"
     ]
    },
    {
     "name": "stdout",
     "output_type": "stream",
     "text": [
      "CompletedProcess(args=\"echo 'GET http://localhost:8890/sleep50' | vegeta -cpus 1 attack -rate 1000 -duration 5s -timeout 1s -name aiohttp_sleep_50_rps_1000 -workers 1 > /tmp/aiohttp_sleep_50_rps_1000.bin\", returncode=0)\n",
      "------------------------------\n",
      "Requests      [total, rate]            5000, 1000.02\n",
      "Duration      [total, attack, wait]    5.050887721s, 4.999904551s, 50.98317ms\n",
      "Latencies     [mean, 50, 95, 99, max]  51.471531ms, 50.630875ms, 51.351737ms, 81.731675ms, 127.926607ms\n",
      "Bytes In      [total, mean]            0, 0.00\n",
      "Bytes Out     [total, mean]            0, 0.00\n",
      "Success       [ratio]                  99.96%\n",
      "Status Codes  [code:count]             0:2  200:4998  \n",
      "Error Set:\n",
      "Get http://localhost:8890/sleep50: dial tcp 0.0.0.0:0->[::1]:8890: connect: connection refused\n",
      "\n"
     ]
    },
    {
     "name": "stderr",
     "output_type": "stream",
     "text": [
      "Process Process-2:\n",
      "Traceback (most recent call last):\n",
      "  File \"/Users/dyukhodakov/.pyenv/versions/3.6.5/lib/python3.6/multiprocessing/process.py\", line 258, in _bootstrap\n",
      "    self.run()\n",
      "  File \"/Users/dyukhodakov/.pyenv/versions/3.6.5/lib/python3.6/multiprocessing/process.py\", line 93, in run\n",
      "    self._target(*self._args, **self._kwargs)\n",
      "  File \"/Users/dyukhodakov/.pyenv/versions/3.6.5/lib/python3.6/subprocess.py\", line 405, in run\n",
      "    stdout, stderr = process.communicate(input, timeout=timeout)\n",
      "  File \"/Users/dyukhodakov/.pyenv/versions/3.6.5/lib/python3.6/subprocess.py\", line 835, in communicate\n",
      "    self.wait()\n",
      "  File \"/Users/dyukhodakov/.pyenv/versions/3.6.5/lib/python3.6/subprocess.py\", line 1457, in wait\n",
      "    (pid, sts) = self._try_wait(0)\n",
      "  File \"/Users/dyukhodakov/.pyenv/versions/3.6.5/lib/python3.6/subprocess.py\", line 1404, in _try_wait\n",
      "    (pid, sts) = os.waitpid(self.pid, wait_flags)\n",
      "KeyboardInterrupt\n"
     ]
    },
    {
     "name": "stdout",
     "output_type": "stream",
     "text": [
      "CompletedProcess(args=\"echo 'GET http://localhost:8890/sleep50' | vegeta -cpus 1 attack -rate 1250 -duration 5s -timeout 1s -name aiohttp_sleep_50_rps_1250 -workers 1 > /tmp/aiohttp_sleep_50_rps_1250.bin\", returncode=0)\n",
      "------------------------------\n",
      "Requests      [total, rate]            6250, 1249.99\n",
      "Duration      [total, attack, wait]    5.051353586s, 5.000039414s, 51.314172ms\n",
      "Latencies     [mean, 50, 95, 99, max]  52.282557ms, 50.598035ms, 53.03305ms, 110.304448ms, 155.929713ms\n",
      "Bytes In      [total, mean]            0, 0.00\n",
      "Bytes Out     [total, mean]            0, 0.00\n",
      "Success       [ratio]                  99.82%\n",
      "Status Codes  [code:count]             0:11  200:6239  \n",
      "Error Set:\n",
      "Get http://localhost:8890/sleep50: dial tcp 0.0.0.0:0->[::1]:8890: connect: connection refused\n",
      "\n"
     ]
    },
    {
     "name": "stderr",
     "output_type": "stream",
     "text": [
      "Process Process-3:\n",
      "Traceback (most recent call last):\n",
      "  File \"/Users/dyukhodakov/.pyenv/versions/3.6.5/lib/python3.6/multiprocessing/process.py\", line 258, in _bootstrap\n",
      "    self.run()\n",
      "  File \"/Users/dyukhodakov/.pyenv/versions/3.6.5/lib/python3.6/multiprocessing/process.py\", line 93, in run\n",
      "    self._target(*self._args, **self._kwargs)\n",
      "  File \"/Users/dyukhodakov/.pyenv/versions/3.6.5/lib/python3.6/subprocess.py\", line 405, in run\n",
      "    stdout, stderr = process.communicate(input, timeout=timeout)\n",
      "  File \"/Users/dyukhodakov/.pyenv/versions/3.6.5/lib/python3.6/subprocess.py\", line 835, in communicate\n",
      "    self.wait()\n",
      "  File \"/Users/dyukhodakov/.pyenv/versions/3.6.5/lib/python3.6/subprocess.py\", line 1457, in wait\n",
      "    (pid, sts) = self._try_wait(0)\n",
      "  File \"/Users/dyukhodakov/.pyenv/versions/3.6.5/lib/python3.6/subprocess.py\", line 1404, in _try_wait\n",
      "    (pid, sts) = os.waitpid(self.pid, wait_flags)\n",
      "KeyboardInterrupt\n"
     ]
    },
    {
     "data": {
      "text/plain": [
       "['aiohttp_sleep_50_rps_750',\n",
       " 'aiohttp_sleep_50_rps_1000',\n",
       " 'aiohttp_sleep_50_rps_1250']"
      ]
     },
     "execution_count": 17,
     "metadata": {},
     "output_type": "execute_result"
    }
   ],
   "source": [
    "benchmark('./aiohttp_server.py', 'aiohttp_sleep_50', rps_list, exp_names)"
   ]
  },
  {
   "cell_type": "code",
   "execution_count": 23,
   "metadata": {
    "scrolled": true
   },
   "outputs": [
    {
     "name": "stdout",
     "output_type": "stream",
     "text": [
      "CompletedProcess(args=\"echo 'GET http://localhost:8890/sleep50' | vegeta -cpus 1 attack -rate 750 -duration 5s -timeout 1s -name aiohttp_uvloop_sleep_50_rps_750 -workers 1 > /tmp/aiohttp_uvloop_sleep_50_rps_750.bin\", returncode=0)\n",
      "------------------------------\n",
      "Requests      [total, rate]            3750, 750.00\n",
      "Duration      [total, attack, wait]    5.052073318s, 5.000007068s, 52.06625ms\n",
      "Latencies     [mean, 50, 95, 99, max]  51.48535ms, 50.963663ms, 51.899809ms, 82.635109ms, 119.928445ms\n",
      "Bytes In      [total, mean]            0, 0.00\n",
      "Bytes Out     [total, mean]            0, 0.00\n",
      "Success       [ratio]                  99.81%\n",
      "Status Codes  [code:count]             0:7  200:3743  \n",
      "Error Set:\n",
      "Get http://localhost:8890/sleep50: dial tcp 0.0.0.0:0->[::1]:8890: connect: connection refused\n",
      "\n"
     ]
    },
    {
     "name": "stderr",
     "output_type": "stream",
     "text": [
      "Process Process-5:\n",
      "Traceback (most recent call last):\n",
      "  File \"/Users/dyukhodakov/.pyenv/versions/3.6.5/lib/python3.6/multiprocessing/process.py\", line 258, in _bootstrap\n",
      "    self.run()\n",
      "  File \"/Users/dyukhodakov/.pyenv/versions/3.6.5/lib/python3.6/multiprocessing/process.py\", line 93, in run\n",
      "    self._target(*self._args, **self._kwargs)\n",
      "  File \"/Users/dyukhodakov/.pyenv/versions/3.6.5/lib/python3.6/subprocess.py\", line 405, in run\n",
      "    stdout, stderr = process.communicate(input, timeout=timeout)\n",
      "  File \"/Users/dyukhodakov/.pyenv/versions/3.6.5/lib/python3.6/subprocess.py\", line 835, in communicate\n",
      "    self.wait()\n",
      "  File \"/Users/dyukhodakov/.pyenv/versions/3.6.5/lib/python3.6/subprocess.py\", line 1457, in wait\n",
      "    (pid, sts) = self._try_wait(0)\n",
      "  File \"/Users/dyukhodakov/.pyenv/versions/3.6.5/lib/python3.6/subprocess.py\", line 1404, in _try_wait\n",
      "    (pid, sts) = os.waitpid(self.pid, wait_flags)\n",
      "KeyboardInterrupt\n"
     ]
    },
    {
     "name": "stdout",
     "output_type": "stream",
     "text": [
      "CompletedProcess(args=\"echo 'GET http://localhost:8890/sleep50' | vegeta -cpus 1 attack -rate 1000 -duration 5s -timeout 1s -name aiohttp_uvloop_sleep_50_rps_1000 -workers 1 > /tmp/aiohttp_uvloop_sleep_50_rps_1000.bin\", returncode=0)\n",
      "------------------------------\n",
      "Requests      [total, rate]            5000, 1000.07\n",
      "Duration      [total, attack, wait]    5.050056397s, 4.999673622s, 50.382775ms\n",
      "Latencies     [mean, 50, 95, 99, max]  51.571993ms, 51.083796ms, 52.150678ms, 81.272273ms, 126.814124ms\n",
      "Bytes In      [total, mean]            0, 0.00\n",
      "Bytes Out     [total, mean]            0, 0.00\n",
      "Success       [ratio]                  99.70%\n",
      "Status Codes  [code:count]             0:15  200:4985  \n",
      "Error Set:\n",
      "Get http://localhost:8890/sleep50: dial tcp 0.0.0.0:0->[::1]:8890: connect: connection refused\n",
      "\n"
     ]
    },
    {
     "name": "stderr",
     "output_type": "stream",
     "text": [
      "Process Process-6:\n",
      "Traceback (most recent call last):\n",
      "  File \"/Users/dyukhodakov/.pyenv/versions/3.6.5/lib/python3.6/multiprocessing/process.py\", line 258, in _bootstrap\n",
      "    self.run()\n",
      "  File \"/Users/dyukhodakov/.pyenv/versions/3.6.5/lib/python3.6/multiprocessing/process.py\", line 93, in run\n",
      "    self._target(*self._args, **self._kwargs)\n",
      "  File \"/Users/dyukhodakov/.pyenv/versions/3.6.5/lib/python3.6/subprocess.py\", line 405, in run\n",
      "    stdout, stderr = process.communicate(input, timeout=timeout)\n",
      "  File \"/Users/dyukhodakov/.pyenv/versions/3.6.5/lib/python3.6/subprocess.py\", line 835, in communicate\n",
      "    self.wait()\n",
      "  File \"/Users/dyukhodakov/.pyenv/versions/3.6.5/lib/python3.6/subprocess.py\", line 1457, in wait\n",
      "    (pid, sts) = self._try_wait(0)\n",
      "  File \"/Users/dyukhodakov/.pyenv/versions/3.6.5/lib/python3.6/subprocess.py\", line 1404, in _try_wait\n",
      "    (pid, sts) = os.waitpid(self.pid, wait_flags)\n",
      "KeyboardInterrupt\n"
     ]
    },
    {
     "name": "stdout",
     "output_type": "stream",
     "text": [
      "CompletedProcess(args=\"echo 'GET http://localhost:8890/sleep50' | vegeta -cpus 1 attack -rate 1250 -duration 5s -timeout 1s -name aiohttp_uvloop_sleep_50_rps_1250 -workers 1 > /tmp/aiohttp_uvloop_sleep_50_rps_1250.bin\", returncode=0)\n",
      "------------------------------\n",
      "Requests      [total, rate]            6250, 1249.76\n",
      "Duration      [total, attack, wait]    5.052769298s, 5.000966436s, 51.802862ms\n",
      "Latencies     [mean, 50, 95, 99, max]  52.703521ms, 50.192879ms, 53.909674ms, 126.357769ms, 165.519498ms\n",
      "Bytes In      [total, mean]            0, 0.00\n",
      "Bytes Out     [total, mean]            0, 0.00\n",
      "Success       [ratio]                  99.95%\n",
      "Status Codes  [code:count]             0:3  200:6247  \n",
      "Error Set:\n",
      "Get http://localhost:8890/sleep50: dial tcp 0.0.0.0:0->[::1]:8890: connect: connection refused\n",
      "\n"
     ]
    },
    {
     "name": "stderr",
     "output_type": "stream",
     "text": [
      "Process Process-7:\n",
      "Traceback (most recent call last):\n",
      "  File \"/Users/dyukhodakov/.pyenv/versions/3.6.5/lib/python3.6/multiprocessing/process.py\", line 258, in _bootstrap\n",
      "    self.run()\n",
      "  File \"/Users/dyukhodakov/.pyenv/versions/3.6.5/lib/python3.6/multiprocessing/process.py\", line 93, in run\n",
      "    self._target(*self._args, **self._kwargs)\n",
      "  File \"/Users/dyukhodakov/.pyenv/versions/3.6.5/lib/python3.6/subprocess.py\", line 405, in run\n",
      "    stdout, stderr = process.communicate(input, timeout=timeout)\n",
      "  File \"/Users/dyukhodakov/.pyenv/versions/3.6.5/lib/python3.6/subprocess.py\", line 835, in communicate\n",
      "    self.wait()\n",
      "  File \"/Users/dyukhodakov/.pyenv/versions/3.6.5/lib/python3.6/subprocess.py\", line 1457, in wait\n",
      "    (pid, sts) = self._try_wait(0)\n",
      "  File \"/Users/dyukhodakov/.pyenv/versions/3.6.5/lib/python3.6/subprocess.py\", line 1404, in _try_wait\n",
      "    (pid, sts) = os.waitpid(self.pid, wait_flags)\n",
      "KeyboardInterrupt\n"
     ]
    },
    {
     "data": {
      "text/plain": [
       "['aiohttp_uvloop_sleep_50_rps_750',\n",
       " 'aiohttp_uvloop_sleep_50_rps_1000',\n",
       " 'aiohttp_uvloop_sleep_50_rps_1250']"
      ]
     },
     "execution_count": 23,
     "metadata": {},
     "output_type": "execute_result"
    }
   ],
   "source": [
    "benchmark('./aiohttp_server_uvloop.py', 'aiohttp_uvloop_sleep_50', rps_list, exp_names)"
   ]
  },
  {
   "cell_type": "code",
   "execution_count": 30,
   "metadata": {
    "scrolled": true
   },
   "outputs": [
    {
     "name": "stdout",
     "output_type": "stream",
     "text": [
      "CompletedProcess(args=\"echo 'GET http://localhost:8890/sleep50' | vegeta -cpus 1 attack -rate 750 -duration 5s -timeout 1s -name tornado_sleep_50_rps_750 -workers 1 > /tmp/tornado_sleep_50_rps_750.bin\", returncode=0)\n",
      "------------------------------\n",
      "Requests      [total, rate]            3750, 750.00\n",
      "Duration      [total, attack, wait]    5.051568647s, 4.999977236s, 51.591411ms\n",
      "Latencies     [mean, 50, 95, 99, max]  52.389477ms, 51.384118ms, 56.351268ms, 78.216804ms, 137.634392ms\n",
      "Bytes In      [total, mean]            0, 0.00\n",
      "Bytes Out     [total, mean]            0, 0.00\n",
      "Success       [ratio]                  100.00%\n",
      "Status Codes  [code:count]             200:3750  \n",
      "Error Set:\n",
      "\n"
     ]
    },
    {
     "name": "stderr",
     "output_type": "stream",
     "text": [
      "Process Process-8:\n",
      "Traceback (most recent call last):\n",
      "  File \"/Users/dyukhodakov/.pyenv/versions/3.6.5/lib/python3.6/multiprocessing/process.py\", line 258, in _bootstrap\n",
      "    self.run()\n",
      "  File \"/Users/dyukhodakov/.pyenv/versions/3.6.5/lib/python3.6/multiprocessing/process.py\", line 93, in run\n",
      "    self._target(*self._args, **self._kwargs)\n",
      "  File \"/Users/dyukhodakov/.pyenv/versions/3.6.5/lib/python3.6/subprocess.py\", line 405, in run\n",
      "    stdout, stderr = process.communicate(input, timeout=timeout)\n",
      "  File \"/Users/dyukhodakov/.pyenv/versions/3.6.5/lib/python3.6/subprocess.py\", line 835, in communicate\n",
      "    self.wait()\n",
      "  File \"/Users/dyukhodakov/.pyenv/versions/3.6.5/lib/python3.6/subprocess.py\", line 1457, in wait\n",
      "    (pid, sts) = self._try_wait(0)\n",
      "  File \"/Users/dyukhodakov/.pyenv/versions/3.6.5/lib/python3.6/subprocess.py\", line 1404, in _try_wait\n",
      "    (pid, sts) = os.waitpid(self.pid, wait_flags)\n",
      "KeyboardInterrupt\n"
     ]
    },
    {
     "name": "stdout",
     "output_type": "stream",
     "text": [
      "CompletedProcess(args=\"echo 'GET http://localhost:8890/sleep50' | vegeta -cpus 1 attack -rate 1000 -duration 5s -timeout 1s -name tornado_sleep_50_rps_1000 -workers 1 > /tmp/tornado_sleep_50_rps_1000.bin\", returncode=0)\n",
      "------------------------------\n",
      "Requests      [total, rate]            5000, 999.93\n",
      "Duration      [total, attack, wait]    5.051670531s, 5.000367242s, 51.303289ms\n",
      "Latencies     [mean, 50, 95, 99, max]  55.384373ms, 51.532606ms, 80.673816ms, 137.32151ms, 192.850416ms\n",
      "Bytes In      [total, mean]            0, 0.00\n",
      "Bytes Out     [total, mean]            0, 0.00\n",
      "Success       [ratio]                  100.00%\n",
      "Status Codes  [code:count]             200:5000  \n",
      "Error Set:\n",
      "\n"
     ]
    },
    {
     "name": "stderr",
     "output_type": "stream",
     "text": [
      "Process Process-9:\n",
      "Traceback (most recent call last):\n",
      "  File \"/Users/dyukhodakov/.pyenv/versions/3.6.5/lib/python3.6/multiprocessing/process.py\", line 258, in _bootstrap\n",
      "    self.run()\n",
      "  File \"/Users/dyukhodakov/.pyenv/versions/3.6.5/lib/python3.6/multiprocessing/process.py\", line 93, in run\n",
      "    self._target(*self._args, **self._kwargs)\n",
      "  File \"/Users/dyukhodakov/.pyenv/versions/3.6.5/lib/python3.6/subprocess.py\", line 405, in run\n",
      "    stdout, stderr = process.communicate(input, timeout=timeout)\n",
      "  File \"/Users/dyukhodakov/.pyenv/versions/3.6.5/lib/python3.6/subprocess.py\", line 835, in communicate\n",
      "    self.wait()\n",
      "  File \"/Users/dyukhodakov/.pyenv/versions/3.6.5/lib/python3.6/subprocess.py\", line 1457, in wait\n",
      "    (pid, sts) = self._try_wait(0)\n",
      "  File \"/Users/dyukhodakov/.pyenv/versions/3.6.5/lib/python3.6/subprocess.py\", line 1404, in _try_wait\n",
      "    (pid, sts) = os.waitpid(self.pid, wait_flags)\n",
      "KeyboardInterrupt\n"
     ]
    },
    {
     "name": "stdout",
     "output_type": "stream",
     "text": [
      "CompletedProcess(args=\"echo 'GET http://localhost:8890/sleep50' | vegeta -cpus 1 attack -rate 1250 -duration 5s -timeout 1s -name tornado_sleep_50_rps_1250 -workers 1 > /tmp/tornado_sleep_50_rps_1250.bin\", returncode=0)\n",
      "------------------------------\n",
      "Requests      [total, rate]            6250, 1249.97\n",
      "Duration      [total, attack, wait]    5.051745406s, 5.000112573s, 51.632833ms\n",
      "Latencies     [mean, 50, 95, 99, max]  64.744395ms, 55.044269ms, 120.944414ms, 151.263408ms, 219.608882ms\n",
      "Bytes In      [total, mean]            0, 0.00\n",
      "Bytes Out     [total, mean]            0, 0.00\n",
      "Success       [ratio]                  100.00%\n",
      "Status Codes  [code:count]             200:6250  \n",
      "Error Set:\n",
      "\n"
     ]
    },
    {
     "name": "stderr",
     "output_type": "stream",
     "text": [
      "Process Process-10:\n",
      "Traceback (most recent call last):\n",
      "  File \"/Users/dyukhodakov/.pyenv/versions/3.6.5/lib/python3.6/multiprocessing/process.py\", line 258, in _bootstrap\n",
      "    self.run()\n",
      "  File \"/Users/dyukhodakov/.pyenv/versions/3.6.5/lib/python3.6/multiprocessing/process.py\", line 93, in run\n",
      "    self._target(*self._args, **self._kwargs)\n",
      "  File \"/Users/dyukhodakov/.pyenv/versions/3.6.5/lib/python3.6/subprocess.py\", line 405, in run\n",
      "    stdout, stderr = process.communicate(input, timeout=timeout)\n",
      "  File \"/Users/dyukhodakov/.pyenv/versions/3.6.5/lib/python3.6/subprocess.py\", line 835, in communicate\n",
      "    self.wait()\n",
      "  File \"/Users/dyukhodakov/.pyenv/versions/3.6.5/lib/python3.6/subprocess.py\", line 1457, in wait\n",
      "    (pid, sts) = self._try_wait(0)\n",
      "  File \"/Users/dyukhodakov/.pyenv/versions/3.6.5/lib/python3.6/subprocess.py\", line 1404, in _try_wait\n",
      "    (pid, sts) = os.waitpid(self.pid, wait_flags)\n",
      "KeyboardInterrupt\n"
     ]
    },
    {
     "data": {
      "text/plain": [
       "['tornado_sleep_50_rps_750',\n",
       " 'tornado_sleep_50_rps_1000',\n",
       " 'tornado_sleep_50_rps_1250']"
      ]
     },
     "execution_count": 30,
     "metadata": {},
     "output_type": "execute_result"
    }
   ],
   "source": [
    "benchmark('./tornado_server.py', 'tornado_sleep_50', rps_list, exp_names)"
   ]
  },
  {
   "cell_type": "code",
   "execution_count": 34,
   "metadata": {
    "scrolled": true
   },
   "outputs": [
    {
     "name": "stdout",
     "output_type": "stream",
     "text": [
      "CompletedProcess(args=\"echo 'GET http://localhost:8890/sleep50' | vegeta -cpus 1 attack -rate 750 -duration 5s -timeout 1s -name tornado_uvloop_sleep_50_rps_750 -workers 1 > /tmp/tornado_uvloop_sleep_50_rps_750.bin\", returncode=0)\n",
      "------------------------------\n",
      "Requests      [total, rate]            3750, 750.05\n",
      "Duration      [total, attack, wait]    5.050663404s, 4.999666879s, 50.996525ms\n",
      "Latencies     [mean, 50, 95, 99, max]  50.800284ms, 50.147732ms, 51.769471ms, 75.24265ms, 130.047305ms\n",
      "Bytes In      [total, mean]            0, 0.00\n",
      "Bytes Out     [total, mean]            0, 0.00\n",
      "Success       [ratio]                  100.00%\n",
      "Status Codes  [code:count]             200:3750  \n",
      "Error Set:\n",
      "\n"
     ]
    },
    {
     "name": "stderr",
     "output_type": "stream",
     "text": [
      "Process Process-11:\n",
      "Traceback (most recent call last):\n",
      "  File \"/Users/dyukhodakov/.pyenv/versions/3.6.5/lib/python3.6/multiprocessing/process.py\", line 258, in _bootstrap\n",
      "    self.run()\n",
      "  File \"/Users/dyukhodakov/.pyenv/versions/3.6.5/lib/python3.6/multiprocessing/process.py\", line 93, in run\n",
      "    self._target(*self._args, **self._kwargs)\n",
      "  File \"/Users/dyukhodakov/.pyenv/versions/3.6.5/lib/python3.6/subprocess.py\", line 405, in run\n",
      "    stdout, stderr = process.communicate(input, timeout=timeout)\n",
      "  File \"/Users/dyukhodakov/.pyenv/versions/3.6.5/lib/python3.6/subprocess.py\", line 835, in communicate\n",
      "    self.wait()\n",
      "  File \"/Users/dyukhodakov/.pyenv/versions/3.6.5/lib/python3.6/subprocess.py\", line 1457, in wait\n",
      "    (pid, sts) = self._try_wait(0)\n",
      "  File \"/Users/dyukhodakov/.pyenv/versions/3.6.5/lib/python3.6/subprocess.py\", line 1404, in _try_wait\n",
      "    (pid, sts) = os.waitpid(self.pid, wait_flags)\n",
      "KeyboardInterrupt\n"
     ]
    },
    {
     "name": "stdout",
     "output_type": "stream",
     "text": [
      "CompletedProcess(args=\"echo 'GET http://localhost:8890/sleep50' | vegeta -cpus 1 attack -rate 1000 -duration 5s -timeout 1s -name tornado_uvloop_sleep_50_rps_1000 -workers 1 > /tmp/tornado_uvloop_sleep_50_rps_1000.bin\", returncode=0)\n",
      "------------------------------\n",
      "Requests      [total, rate]            5000, 1000.01\n",
      "Duration      [total, attack, wait]    5.051771962s, 4.999968813s, 51.803149ms\n",
      "Latencies     [mean, 50, 95, 99, max]  51.075169ms, 50.175256ms, 53.131709ms, 84.564652ms, 136.437272ms\n",
      "Bytes In      [total, mean]            0, 0.00\n",
      "Bytes Out     [total, mean]            0, 0.00\n",
      "Success       [ratio]                  100.00%\n",
      "Status Codes  [code:count]             200:5000  \n",
      "Error Set:\n",
      "\n"
     ]
    },
    {
     "name": "stderr",
     "output_type": "stream",
     "text": [
      "Process Process-12:\n",
      "Traceback (most recent call last):\n",
      "  File \"/Users/dyukhodakov/.pyenv/versions/3.6.5/lib/python3.6/multiprocessing/process.py\", line 258, in _bootstrap\n",
      "    self.run()\n",
      "  File \"/Users/dyukhodakov/.pyenv/versions/3.6.5/lib/python3.6/multiprocessing/process.py\", line 93, in run\n",
      "    self._target(*self._args, **self._kwargs)\n",
      "  File \"/Users/dyukhodakov/.pyenv/versions/3.6.5/lib/python3.6/subprocess.py\", line 405, in run\n",
      "    stdout, stderr = process.communicate(input, timeout=timeout)\n",
      "  File \"/Users/dyukhodakov/.pyenv/versions/3.6.5/lib/python3.6/subprocess.py\", line 835, in communicate\n",
      "    self.wait()\n",
      "  File \"/Users/dyukhodakov/.pyenv/versions/3.6.5/lib/python3.6/subprocess.py\", line 1457, in wait\n",
      "    (pid, sts) = self._try_wait(0)\n",
      "  File \"/Users/dyukhodakov/.pyenv/versions/3.6.5/lib/python3.6/subprocess.py\", line 1404, in _try_wait\n",
      "    (pid, sts) = os.waitpid(self.pid, wait_flags)\n",
      "KeyboardInterrupt\n"
     ]
    },
    {
     "name": "stdout",
     "output_type": "stream",
     "text": [
      "CompletedProcess(args=\"echo 'GET http://localhost:8890/sleep50' | vegeta -cpus 1 attack -rate 1250 -duration 5s -timeout 1s -name tornado_uvloop_sleep_50_rps_1250 -workers 1 > /tmp/tornado_uvloop_sleep_50_rps_1250.bin\", returncode=0)\n",
      "------------------------------\n",
      "Requests      [total, rate]            6250, 1249.96\n",
      "Duration      [total, attack, wait]    5.050324179s, 5.000147435s, 50.176744ms\n",
      "Latencies     [mean, 50, 95, 99, max]  55.600118ms, 50.314701ms, 88.003397ms, 121.835355ms, 150.647973ms\n",
      "Bytes In      [total, mean]            0, 0.00\n",
      "Bytes Out     [total, mean]            0, 0.00\n",
      "Success       [ratio]                  100.00%\n",
      "Status Codes  [code:count]             200:6250  \n",
      "Error Set:\n",
      "\n"
     ]
    },
    {
     "name": "stderr",
     "output_type": "stream",
     "text": [
      "Process Process-13:\n",
      "Traceback (most recent call last):\n",
      "  File \"/Users/dyukhodakov/.pyenv/versions/3.6.5/lib/python3.6/multiprocessing/process.py\", line 258, in _bootstrap\n",
      "    self.run()\n",
      "  File \"/Users/dyukhodakov/.pyenv/versions/3.6.5/lib/python3.6/multiprocessing/process.py\", line 93, in run\n",
      "    self._target(*self._args, **self._kwargs)\n",
      "  File \"/Users/dyukhodakov/.pyenv/versions/3.6.5/lib/python3.6/subprocess.py\", line 405, in run\n",
      "    stdout, stderr = process.communicate(input, timeout=timeout)\n",
      "  File \"/Users/dyukhodakov/.pyenv/versions/3.6.5/lib/python3.6/subprocess.py\", line 835, in communicate\n",
      "    self.wait()\n",
      "  File \"/Users/dyukhodakov/.pyenv/versions/3.6.5/lib/python3.6/subprocess.py\", line 1457, in wait\n",
      "    (pid, sts) = self._try_wait(0)\n",
      "  File \"/Users/dyukhodakov/.pyenv/versions/3.6.5/lib/python3.6/subprocess.py\", line 1404, in _try_wait\n",
      "    (pid, sts) = os.waitpid(self.pid, wait_flags)\n",
      "KeyboardInterrupt\n"
     ]
    },
    {
     "data": {
      "text/plain": [
       "['tornado_uvloop_sleep_50_rps_750',\n",
       " 'tornado_uvloop_sleep_50_rps_1000',\n",
       " 'tornado_uvloop_sleep_50_rps_1250']"
      ]
     },
     "execution_count": 34,
     "metadata": {},
     "output_type": "execute_result"
    }
   ],
   "source": [
    "benchmark('./tornado_server.py uvloop', 'tornado_uvloop_sleep_50', rps_list, exp_names)"
   ]
  },
  {
   "cell_type": "code",
   "execution_count": 35,
   "metadata": {},
   "outputs": [
    {
     "data": {
      "text/plain": [
       "['aiohttp_sleep_50_rps_750',\n",
       " 'aiohttp_sleep_50_rps_1000',\n",
       " 'aiohttp_sleep_50_rps_1250',\n",
       " 'aiohttp_uvloop_sleep_50_rps_750',\n",
       " 'aiohttp_uvloop_sleep_50_rps_750',\n",
       " 'aiohttp_uvloop_sleep_50_rps_1000',\n",
       " 'aiohttp_uvloop_sleep_50_rps_1250',\n",
       " 'tornado_sleep_50_rps_750',\n",
       " 'tornado_sleep_50_rps_1000',\n",
       " 'tornado_sleep_50_rps_1250',\n",
       " 'tornado_uvloop_sleep_50_rps_750',\n",
       " 'tornado_uvloop_sleep_50_rps_1000',\n",
       " 'tornado_uvloop_sleep_50_rps_1250']"
      ]
     },
     "execution_count": 35,
     "metadata": {},
     "output_type": "execute_result"
    }
   ],
   "source": [
    "exp_names"
   ]
  },
  {
   "cell_type": "markdown",
   "metadata": {},
   "source": [
    "# Plot data"
   ]
  },
  {
   "cell_type": "code",
   "execution_count": 36,
   "metadata": {},
   "outputs": [
    {
     "name": "stdout",
     "output_type": "stream",
     "text": [
      "CompletedProcess(args='vegeta dump -inputs /tmp/aiohttp_sleep_50_rps_750.bin,/tmp/aiohttp_sleep_50_rps_1000.bin,/tmp/aiohttp_sleep_50_rps_1250.bin,/tmp/aiohttp_uvloop_sleep_50_rps_750.bin,/tmp/aiohttp_uvloop_sleep_50_rps_750.bin,/tmp/aiohttp_uvloop_sleep_50_rps_1000.bin,/tmp/aiohttp_uvloop_sleep_50_rps_1250.bin,/tmp/tornado_sleep_50_rps_750.bin,/tmp/tornado_sleep_50_rps_1000.bin,/tmp/tornado_sleep_50_rps_1250.bin,/tmp/tornado_uvloop_sleep_50_rps_750.bin,/tmp/tornado_uvloop_sleep_50_rps_1000.bin,/tmp/tornado_uvloop_sleep_50_rps_1250.bin -output /tmp/out.csv -dumper csv', returncode=0)\n"
     ]
    },
    {
     "data": {
      "text/html": [
       "<div>\n",
       "<style scoped>\n",
       "    .dataframe tbody tr th:only-of-type {\n",
       "        vertical-align: middle;\n",
       "    }\n",
       "\n",
       "    .dataframe tbody tr th {\n",
       "        vertical-align: top;\n",
       "    }\n",
       "\n",
       "    .dataframe thead th {\n",
       "        text-align: right;\n",
       "    }\n",
       "</style>\n",
       "<table border=\"1\" class=\"dataframe\">\n",
       "  <thead>\n",
       "    <tr style=\"text-align: right;\">\n",
       "      <th></th>\n",
       "      <th>http_code</th>\n",
       "      <th>exp_name</th>\n",
       "      <th>latency_ms</th>\n",
       "    </tr>\n",
       "  </thead>\n",
       "  <tbody>\n",
       "    <tr>\n",
       "      <th>0</th>\n",
       "      <td>0</td>\n",
       "      <td>aiohttp_sleep_50_rps_1000</td>\n",
       "      <td>0.0</td>\n",
       "    </tr>\n",
       "    <tr>\n",
       "      <th>1</th>\n",
       "      <td>0</td>\n",
       "      <td>aiohttp_sleep_50_rps_1250</td>\n",
       "      <td>0.0</td>\n",
       "    </tr>\n",
       "    <tr>\n",
       "      <th>2</th>\n",
       "      <td>0</td>\n",
       "      <td>aiohttp_uvloop_sleep_50_rps_750</td>\n",
       "      <td>0.0</td>\n",
       "    </tr>\n",
       "    <tr>\n",
       "      <th>3</th>\n",
       "      <td>0</td>\n",
       "      <td>aiohttp_uvloop_sleep_50_rps_750</td>\n",
       "      <td>0.0</td>\n",
       "    </tr>\n",
       "    <tr>\n",
       "      <th>4</th>\n",
       "      <td>0</td>\n",
       "      <td>aiohttp_uvloop_sleep_50_rps_1000</td>\n",
       "      <td>0.0</td>\n",
       "    </tr>\n",
       "  </tbody>\n",
       "</table>\n",
       "</div>"
      ],
      "text/plain": [
       "   http_code                          exp_name  latency_ms\n",
       "0          0         aiohttp_sleep_50_rps_1000         0.0\n",
       "1          0         aiohttp_sleep_50_rps_1250         0.0\n",
       "2          0   aiohttp_uvloop_sleep_50_rps_750         0.0\n",
       "3          0   aiohttp_uvloop_sleep_50_rps_750         0.0\n",
       "4          0  aiohttp_uvloop_sleep_50_rps_1000         0.0"
      ]
     },
     "execution_count": 36,
     "metadata": {},
     "output_type": "execute_result"
    }
   ],
   "source": [
    "csv_file = aggr_exp(exp_names)\n",
    "exp_data = read_experiment(csv_file, warmup_time_sec=1)\n",
    "# plot_exp_data(exp_data)\n",
    "exp_data.head()"
   ]
  },
  {
   "cell_type": "code",
   "execution_count": 37,
   "metadata": {},
   "outputs": [],
   "source": [
    "df = latency_table(exp_data)"
   ]
  },
  {
   "cell_type": "code",
   "execution_count": 38,
   "metadata": {},
   "outputs": [
    {
     "data": {
      "text/html": [
       "<div>\n",
       "<style scoped>\n",
       "    .dataframe tbody tr th:only-of-type {\n",
       "        vertical-align: middle;\n",
       "    }\n",
       "\n",
       "    .dataframe tbody tr th {\n",
       "        vertical-align: top;\n",
       "    }\n",
       "\n",
       "    .dataframe thead th {\n",
       "        text-align: right;\n",
       "    }\n",
       "</style>\n",
       "<table border=\"1\" class=\"dataframe\">\n",
       "  <thead>\n",
       "    <tr style=\"text-align: right;\">\n",
       "      <th>level_1</th>\n",
       "      <th>exp_name</th>\n",
       "      <th>0.95</th>\n",
       "      <th>0.98</th>\n",
       "      <th>0.99</th>\n",
       "    </tr>\n",
       "    <tr>\n",
       "      <th>rps</th>\n",
       "      <th></th>\n",
       "      <th></th>\n",
       "      <th></th>\n",
       "      <th></th>\n",
       "    </tr>\n",
       "  </thead>\n",
       "  <tbody>\n",
       "    <tr>\n",
       "      <th>750</th>\n",
       "      <td>aiohttp_sleep_50</td>\n",
       "      <td>51.5</td>\n",
       "      <td>51.6</td>\n",
       "      <td>52.2</td>\n",
       "    </tr>\n",
       "    <tr>\n",
       "      <th>750</th>\n",
       "      <td>aiohttp_uvloop_sleep_50</td>\n",
       "      <td>51.9</td>\n",
       "      <td>57.6</td>\n",
       "      <td>84.6</td>\n",
       "    </tr>\n",
       "    <tr>\n",
       "      <th>750</th>\n",
       "      <td>tornado_sleep_50</td>\n",
       "      <td>56.3</td>\n",
       "      <td>62.8</td>\n",
       "      <td>77.4</td>\n",
       "    </tr>\n",
       "    <tr>\n",
       "      <th>750</th>\n",
       "      <td>tornado_uvloop_sleep_50</td>\n",
       "      <td>51.8</td>\n",
       "      <td>53.9</td>\n",
       "      <td>74.8</td>\n",
       "    </tr>\n",
       "    <tr>\n",
       "      <th>1000</th>\n",
       "      <td>aiohttp_sleep_50</td>\n",
       "      <td>51.3</td>\n",
       "      <td>60.1</td>\n",
       "      <td>82.0</td>\n",
       "    </tr>\n",
       "    <tr>\n",
       "      <th>1000</th>\n",
       "      <td>aiohttp_uvloop_sleep_50</td>\n",
       "      <td>52.2</td>\n",
       "      <td>58.8</td>\n",
       "      <td>81.5</td>\n",
       "    </tr>\n",
       "    <tr>\n",
       "      <th>1000</th>\n",
       "      <td>tornado_sleep_50</td>\n",
       "      <td>80.7</td>\n",
       "      <td>121.8</td>\n",
       "      <td>136.6</td>\n",
       "    </tr>\n",
       "    <tr>\n",
       "      <th>1000</th>\n",
       "      <td>tornado_uvloop_sleep_50</td>\n",
       "      <td>53.0</td>\n",
       "      <td>60.0</td>\n",
       "      <td>83.8</td>\n",
       "    </tr>\n",
       "    <tr>\n",
       "      <th>1250</th>\n",
       "      <td>aiohttp_sleep_50</td>\n",
       "      <td>52.7</td>\n",
       "      <td>85.1</td>\n",
       "      <td>109.1</td>\n",
       "    </tr>\n",
       "    <tr>\n",
       "      <th>1250</th>\n",
       "      <td>aiohttp_uvloop_sleep_50</td>\n",
       "      <td>53.3</td>\n",
       "      <td>108.8</td>\n",
       "      <td>126.1</td>\n",
       "    </tr>\n",
       "    <tr>\n",
       "      <th>1250</th>\n",
       "      <td>tornado_sleep_50</td>\n",
       "      <td>120.9</td>\n",
       "      <td>134.8</td>\n",
       "      <td>151.0</td>\n",
       "    </tr>\n",
       "    <tr>\n",
       "      <th>1250</th>\n",
       "      <td>tornado_uvloop_sleep_50</td>\n",
       "      <td>88.0</td>\n",
       "      <td>111.2</td>\n",
       "      <td>121.7</td>\n",
       "    </tr>\n",
       "  </tbody>\n",
       "</table>\n",
       "</div>"
      ],
      "text/plain": [
       "level_1                 exp_name   0.95   0.98   0.99\n",
       "rps                                                  \n",
       "750             aiohttp_sleep_50   51.5   51.6   52.2\n",
       "750      aiohttp_uvloop_sleep_50   51.9   57.6   84.6\n",
       "750             tornado_sleep_50   56.3   62.8   77.4\n",
       "750      tornado_uvloop_sleep_50   51.8   53.9   74.8\n",
       "1000            aiohttp_sleep_50   51.3   60.1   82.0\n",
       "1000     aiohttp_uvloop_sleep_50   52.2   58.8   81.5\n",
       "1000            tornado_sleep_50   80.7  121.8  136.6\n",
       "1000     tornado_uvloop_sleep_50   53.0   60.0   83.8\n",
       "1250            aiohttp_sleep_50   52.7   85.1  109.1\n",
       "1250     aiohttp_uvloop_sleep_50   53.3  108.8  126.1\n",
       "1250            tornado_sleep_50  120.9  134.8  151.0\n",
       "1250     tornado_uvloop_sleep_50   88.0  111.2  121.7"
      ]
     },
     "execution_count": 38,
     "metadata": {},
     "output_type": "execute_result"
    }
   ],
   "source": [
    "df"
   ]
  },
  {
   "cell_type": "code",
   "execution_count": 27,
   "metadata": {},
   "outputs": [],
   "source": [
    "df1 = df.reset_index()"
   ]
  },
  {
   "cell_type": "code",
   "execution_count": 29,
   "metadata": {},
   "outputs": [
    {
     "data": {
      "text/html": [
       "<div>\n",
       "<style scoped>\n",
       "    .dataframe tbody tr th:only-of-type {\n",
       "        vertical-align: middle;\n",
       "    }\n",
       "\n",
       "    .dataframe tbody tr th {\n",
       "        vertical-align: top;\n",
       "    }\n",
       "\n",
       "    .dataframe thead th {\n",
       "        text-align: right;\n",
       "    }\n",
       "</style>\n",
       "<table border=\"1\" class=\"dataframe\">\n",
       "  <thead>\n",
       "    <tr style=\"text-align: right;\">\n",
       "      <th></th>\n",
       "      <th>95pct_ms</th>\n",
       "      <th>rps</th>\n",
       "      <th>uplift</th>\n",
       "      <th>winner</th>\n",
       "    </tr>\n",
       "  </thead>\n",
       "  <tbody>\n",
       "    <tr>\n",
       "      <th>0</th>\n",
       "      <td>51.5</td>\n",
       "      <td>750</td>\n",
       "      <td>0.007707</td>\n",
       "      <td>aiohttp_sleep_50</td>\n",
       "    </tr>\n",
       "    <tr>\n",
       "      <th>1</th>\n",
       "      <td>51.3</td>\n",
       "      <td>1000</td>\n",
       "      <td>0.017241</td>\n",
       "      <td>aiohttp_sleep_50</td>\n",
       "    </tr>\n",
       "    <tr>\n",
       "      <th>2</th>\n",
       "      <td>52.7</td>\n",
       "      <td>1250</td>\n",
       "      <td>0.011257</td>\n",
       "      <td>aiohttp_sleep_50</td>\n",
       "    </tr>\n",
       "  </tbody>\n",
       "</table>\n",
       "</div>"
      ],
      "text/plain": [
       "   95pct_ms   rps    uplift            winner\n",
       "0      51.5   750  0.007707  aiohttp_sleep_50\n",
       "1      51.3  1000  0.017241  aiohttp_sleep_50\n",
       "2      52.7  1250  0.011257  aiohttp_sleep_50"
      ]
     },
     "execution_count": 29,
     "metadata": {},
     "output_type": "execute_result"
    }
   ],
   "source": [
    "winners_data = []\n",
    "for rps, gr in df1.groupby('rps'):\n",
    "    col = gr[0.95]\n",
    "    winners_data.append({\n",
    "        'rps': rps, \n",
    "        'winner': df1.loc[col.idxmin()]['exp_name'], \n",
    "        '95pct_ms': col.min(), \n",
    "        'uplift': 1 - col.min() / col.max()\n",
    "    })\n",
    "pd.DataFrame(winners_data)"
   ]
  },
  {
   "cell_type": "code",
   "execution_count": null,
   "metadata": {},
   "outputs": [],
   "source": []
  }
 ],
 "metadata": {
  "kernelspec": {
   "display_name": "Python 3",
   "language": "python",
   "name": "python3"
  },
  "language_info": {
   "codemirror_mode": {
    "name": "ipython",
    "version": 3
   },
   "file_extension": ".py",
   "mimetype": "text/x-python",
   "name": "python",
   "nbconvert_exporter": "python",
   "pygments_lexer": "ipython3",
   "version": "3.6.5"
  }
 },
 "nbformat": 4,
 "nbformat_minor": 2
}

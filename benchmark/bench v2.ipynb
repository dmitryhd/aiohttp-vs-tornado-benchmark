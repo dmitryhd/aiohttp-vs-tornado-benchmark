{
 "cells": [
  {
   "cell_type": "markdown",
   "metadata": {},
   "source": [
    "- `aiohttp==3.3.2`\n",
    "- `tornado==5.1`\n",
    "- `without uvloop`\n",
    "- `Intel(R) Xeon(R) CPU E5-2697 v4`\n",
    "- `Python 3.6.5 (default, Jul 18 2018, 21:30:18) [GCC 6.3.0 20170516] on linux Debian 4.9`\n",
    "- `Duraion - 120 seconds, 1s warmup, 5 repeats`"
   ]
  },
  {
   "cell_type": "code",
   "execution_count": 198,
   "metadata": {},
   "outputs": [],
   "source": [
    "import os\n",
    "import subprocess\n",
    "import pandas as pd\n",
    "import time\n",
    "import seaborn as sns\n",
    "sns.set(style='whitegrid')\n",
    "sns.set(rc={'figure.figsize':(11.7, 8.27)})\n",
    "\n",
    "def run_experiment(exp_name: str, rps=100, duration_sec=5, handler='sleep50', silent=True) -> str:\n",
    "    dump_file = f'/tmp/{exp_name}.bin'\n",
    "    run_vegeta = f\"echo 'GET http://localhost:8890/{handler}' | vegeta -cpus 1 attack -rate {rps} -duration {duration_sec}s -timeout 1s -name {exp_name} -workers 1 > {dump_file}\"\n",
    "    p = subprocess.run(run_vegeta, shell=True)\n",
    "    if not silent:\n",
    "        print(p)\n",
    "        print('---'*10)\n",
    "        print_report = f\"cat {dump_file} | vegeta report -reporter text > /tmp/res.txt\"\n",
    "        subprocess.run(print_report, shell=True)\n",
    "        print(open('/tmp/res.txt').read())\n",
    "\n",
    "def read_experiment(csv_path: str, warmup_time_sec = 0.2) -> pd.DataFrame:\n",
    "    names = ['unix_ts_ns', 'http_code', 'latency_ns', 'bytes_out', 'bytes_in', 'x', 'error', 'exp_name', 'y']\n",
    "    data = pd.read_csv(csv_path, header=None, names=names)\n",
    "    del data['error']\n",
    "    del data['x']\n",
    "    del data['y']\n",
    "    del data['bytes_out']\n",
    "    del data['bytes_in']\n",
    "    begin_ts_ns = data.unix_ts_ns.min()\n",
    "    exp_start_ts_ns = begin_ts_ns + int(warmup_time_sec * 1_000_000_000)\n",
    "    data = data[data.unix_ts_ns > exp_start_ts_ns]\n",
    "    data.reset_index(drop=True, inplace=True)\n",
    "    data['latency_ms'] = (data['latency_ns'] / 1_000_000).round(2)\n",
    "    del data['unix_ts_ns']\n",
    "    del data['latency_ns']\n",
    "    return data\n",
    "\n",
    "def aggr_exp(exp_names: list) -> str:\n",
    "    out_csv = f'/tmp/out.csv'\n",
    "    dump_files = ','.join([f'/tmp/{exp_name}.bin' for exp_name in exp_names])\n",
    "    dump_ext = f\"vegeta dump -inputs {dump_files} -output {out_csv} -dumper csv\"\n",
    "    p = subprocess.run(dump_ext, shell=True)\n",
    "    # print(p)\n",
    "    return out_csv\n",
    "\n",
    "def plot_exp_data(exp_data):\n",
    "    ax = sns.boxplot(x='latency_ms', y='exp_name', data=exp_data)\n",
    "\n",
    "def latency_table(exp_data, rps):\n",
    "    a = exp_data.groupby('exp_name').quantile([.95, .98, .99])\n",
    "    a = a.reset_index().pivot(index='exp_name', columns='level_1', values='latency_ms')\n",
    "    a = a.round(1)\n",
    "    df = a.reset_index()\n",
    "    #df['exp_name'], df['rps'] = df.exp_name.str.split('_rps_').str\n",
    "    df['rps'] = rps\n",
    "    df['rps'] = df['rps'].astype(int)\n",
    "    df.sort_values('rps', inplace=True)\n",
    "    df.reset_index(drop=True, inplace=True)\n",
    "    df = df[['rps','exp_name', 0.95, 0.98, 0.99]]\n",
    "    return df\n",
    "\n",
    "\n",
    "def hand_experiment(name: str, rps=100, duration_sec=3, repeats=5, **kwargs):\n",
    "    exp_datas = []\n",
    "    latencies = []\n",
    "    for _ in range(repeats):\n",
    "        run_experiment(name, rps, duration_sec, **kwargs)\n",
    "        csv_file = aggr_exp([name])\n",
    "        exp_data = read_experiment(csv_file, warmup_time_sec=1)\n",
    "        exp_datas.append(exp_data)\n",
    "        df = latency_table(exp_data, rps)\n",
    "        latencies.append(df)\n",
    "    latencies = pd.concat(latencies)\n",
    "    return latencies, exp_datas\n",
    "\n",
    "\n",
    "repeats = 3\n",
    "duration_sec = 10\n",
    "rps = 1000\n",
    "wait_time = 3"
   ]
  },
  {
   "cell_type": "code",
   "execution_count": 205,
   "metadata": {},
   "outputs": [],
   "source": [
    "lats = []\n",
    "stats = []"
   ]
  },
  {
   "cell_type": "code",
   "execution_count": 208,
   "metadata": {},
   "outputs": [],
   "source": [
    "def experiment(name,\n",
    "               rps, \n",
    "               lats,\n",
    "               stats,\n",
    "               duration_sec=duration_sec, \n",
    "               repeats=repeats,\n",
    "               **kwargs\n",
    "              ):\n",
    "    lat, stat = hand_experiment('tornado_oldstyle', rps=rps, duration_sec=duration_sec, repeats=repeats, **kwargs)\n",
    "    d = pd.concat(stat)\n",
    "    d['rps'] = rps\n",
    "    stats.append(stat)\n",
    "    time.sleep(wait_time)\n",
    "    return lat"
   ]
  },
  {
   "cell_type": "markdown",
   "metadata": {},
   "source": [
    "# Tornado"
   ]
  },
  {
   "cell_type": "code",
   "execution_count": 207,
   "metadata": {},
   "outputs": [
    {
     "data": {
      "text/html": [
       "<div>\n",
       "<style scoped>\n",
       "    .dataframe tbody tr th:only-of-type {\n",
       "        vertical-align: middle;\n",
       "    }\n",
       "\n",
       "    .dataframe tbody tr th {\n",
       "        vertical-align: top;\n",
       "    }\n",
       "\n",
       "    .dataframe thead th {\n",
       "        text-align: right;\n",
       "    }\n",
       "</style>\n",
       "<table border=\"1\" class=\"dataframe\">\n",
       "  <thead>\n",
       "    <tr style=\"text-align: right;\">\n",
       "      <th>level_1</th>\n",
       "      <th>rps</th>\n",
       "      <th>exp_name</th>\n",
       "      <th>0.95</th>\n",
       "      <th>0.98</th>\n",
       "      <th>0.99</th>\n",
       "    </tr>\n",
       "  </thead>\n",
       "  <tbody>\n",
       "    <tr>\n",
       "      <th>0</th>\n",
       "      <td>1000</td>\n",
       "      <td>tornado_oldstyle</td>\n",
       "      <td>269.2</td>\n",
       "      <td>287.6</td>\n",
       "      <td>300.4</td>\n",
       "    </tr>\n",
       "    <tr>\n",
       "      <th>0</th>\n",
       "      <td>1000</td>\n",
       "      <td>tornado_oldstyle</td>\n",
       "      <td>768.3</td>\n",
       "      <td>796.7</td>\n",
       "      <td>804.9</td>\n",
       "    </tr>\n",
       "    <tr>\n",
       "      <th>0</th>\n",
       "      <td>1000</td>\n",
       "      <td>tornado_oldstyle</td>\n",
       "      <td>451.6</td>\n",
       "      <td>481.5</td>\n",
       "      <td>502.2</td>\n",
       "    </tr>\n",
       "  </tbody>\n",
       "</table>\n",
       "</div>"
      ],
      "text/plain": [
       "level_1   rps          exp_name   0.95   0.98   0.99\n",
       "0        1000  tornado_oldstyle  269.2  287.6  300.4\n",
       "0        1000  tornado_oldstyle  768.3  796.7  804.9\n",
       "0        1000  tornado_oldstyle  451.6  481.5  502.2"
      ]
     },
     "execution_count": 207,
     "metadata": {},
     "output_type": "execute_result"
    }
   ],
   "source": [
    "experiment('tornado_oldstyle', 1000, lats, stats, handler='oldstyle')"
   ]
  },
  {
   "cell_type": "code",
   "execution_count": null,
   "metadata": {},
   "outputs": [],
   "source": [
    "experiment('tornado_async', 1000, lats, stats)"
   ]
  },
  {
   "cell_type": "code",
   "execution_count": null,
   "metadata": {},
   "outputs": [],
   "source": [
    "experiment('tornado_async', 1200, lats, stats)"
   ]
  },
  {
   "cell_type": "code",
   "execution_count": null,
   "metadata": {},
   "outputs": [],
   "source": [
    "experiment('tornado_async', 1400, lats, stats)"
   ]
  },
  {
   "cell_type": "code",
   "execution_count": null,
   "metadata": {},
   "outputs": [],
   "source": [
    "experiment('tornado_hard_work', 800, lats, stats, handler='hard_work')"
   ]
  },
  {
   "cell_type": "code",
   "execution_count": null,
   "metadata": {},
   "outputs": [],
   "source": [
    "experiment('tornado_hard_work', 1000, lats, stats, handler='hard_work')"
   ]
  },
  {
   "cell_type": "code",
   "execution_count": null,
   "metadata": {},
   "outputs": [],
   "source": [
    "experiment('tornado_hard_work', 1100, lats, stats, handler='hard_work')"
   ]
  },
  {
   "cell_type": "code",
   "execution_count": null,
   "metadata": {},
   "outputs": [],
   "source": [
    "experiment('tornado_hard_work', 1200, lats, stats, handler='hard_work')"
   ]
  },
  {
   "cell_type": "code",
   "execution_count": null,
   "metadata": {},
   "outputs": [],
   "source": [
    "experiment('tornado_hard_work_oldstyle', 800, lats, stats, handler='hard_work_oldstyle')"
   ]
  },
  {
   "cell_type": "code",
   "execution_count": null,
   "metadata": {},
   "outputs": [],
   "source": [
    "experiment('tornado_hard_work_oldstyle', 900, lats, stats, handler='hard_work_oldstyle')"
   ]
  },
  {
   "cell_type": "code",
   "execution_count": null,
   "metadata": {},
   "outputs": [],
   "source": [
    "experiment('tornado_hard_work_oldstyle', 1000, lats, stats, handler='hard_work_oldstyle')"
   ]
  },
  {
   "cell_type": "code",
   "execution_count": null,
   "metadata": {},
   "outputs": [],
   "source": [
    "experiment('tornado_hard_work_uvloop', 1200, lats, stats, handler='hard_work')"
   ]
  },
  {
   "cell_type": "markdown",
   "metadata": {},
   "source": [
    "# aiohttp"
   ]
  },
  {
   "cell_type": "code",
   "execution_count": null,
   "metadata": {},
   "outputs": [],
   "source": [
    "experiment('aiohttp', 1000, lats, stats)"
   ]
  },
  {
   "cell_type": "code",
   "execution_count": null,
   "metadata": {},
   "outputs": [],
   "source": [
    "experiment('aiohttp', 1500, lats, stats)"
   ]
  },
  {
   "cell_type": "code",
   "execution_count": null,
   "metadata": {},
   "outputs": [],
   "source": [
    "experiment('aiohttp', 2000, lats, stats)"
   ]
  },
  {
   "cell_type": "code",
   "execution_count": null,
   "metadata": {},
   "outputs": [],
   "source": [
    "experiment('aiohttp', 2500, lats, stats)"
   ]
  },
  {
   "cell_type": "code",
   "execution_count": null,
   "metadata": {},
   "outputs": [],
   "source": [
    "experiment('aiohttp', 3000, lats, stats)"
   ]
  },
  {
   "cell_type": "code",
   "execution_count": null,
   "metadata": {},
   "outputs": [],
   "source": [
    "experiment('aiohttp', 800, lats, stats, handler='hard_work')"
   ]
  },
  {
   "cell_type": "code",
   "execution_count": null,
   "metadata": {},
   "outputs": [],
   "source": [
    "experiment('aiohttp', 1000, lats, stats, handler='hard_work')"
   ]
  },
  {
   "cell_type": "code",
   "execution_count": null,
   "metadata": {},
   "outputs": [],
   "source": [
    "experiment('aiohttp', 1100, lats, stats, handler='hard_work')"
   ]
  },
  {
   "cell_type": "code",
   "execution_count": null,
   "metadata": {},
   "outputs": [],
   "source": [
    "experiment('aiohttp', 1200, lats, stats, handler='hard_work')"
   ]
  },
  {
   "cell_type": "code",
   "execution_count": null,
   "metadata": {},
   "outputs": [],
   "source": [
    "experiment('aiohttp', 1800, lats, stats, handler='hard_work')"
   ]
  },
  {
   "cell_type": "code",
   "execution_count": null,
   "metadata": {},
   "outputs": [],
   "source": [
    "experiment('aiohttp', 2000, lats, stats, handler='hard_work')"
   ]
  },
  {
   "cell_type": "code",
   "execution_count": null,
   "metadata": {},
   "outputs": [],
   "source": [
    "experiment('aiohttp', 2200, lats, stats, handler='hard_work')"
   ]
  },
  {
   "cell_type": "code",
   "execution_count": null,
   "metadata": {},
   "outputs": [],
   "source": [
    "experiment('aiohttp', 2300, lats, stats, handler='hard_work')"
   ]
  },
  {
   "cell_type": "code",
   "execution_count": null,
   "metadata": {},
   "outputs": [],
   "source": [
    "experiment('aiohttp', 2400, lats, stats, handler='hard_work')"
   ]
  },
  {
   "cell_type": "code",
   "execution_count": null,
   "metadata": {},
   "outputs": [],
   "source": [
    "#experiment('aiohttp_uvloop_hard_work', 2400, lats, stats, handler='hard_work')"
   ]
  },
  {
   "cell_type": "code",
   "execution_count": null,
   "metadata": {},
   "outputs": [],
   "source": [
    "#experiment('aiohttp_uvloop_hard_work', 2300, lats, stats, handler='hard_work')"
   ]
  },
  {
   "cell_type": "code",
   "execution_count": null,
   "metadata": {},
   "outputs": [],
   "source": [
    "#experiment('aiohttp_uvloop_hard_work', 2000, lats, stats, handler='hard_work')"
   ]
  },
  {
   "cell_type": "code",
   "execution_count": null,
   "metadata": {},
   "outputs": [],
   "source": [
    "#experiment('aiohttp_uvloop_hard_work', 800, lats, stats, handler='hard_work')"
   ]
  },
  {
   "cell_type": "code",
   "execution_count": 103,
   "metadata": {},
   "outputs": [],
   "source": [
    "def results(lats: list) -> pd.DataFrame:\n",
    "    df = pd.concat(lats)\n",
    "    df = df[df[0.99] < 200]\n",
    "    df = df.groupby(['exp_name', 'rps']).mean().sort_values(0.98).round(2)\n",
    "    df = df.reset_index()\n",
    "    renamer = {\n",
    "        0.95: '95% ms',\n",
    "        0.98: '98% ms',\n",
    "        0.99: '99% ms',\n",
    "    }\n",
    "    df = df.rename(renamer, axis=1)\n",
    "    return df"
   ]
  },
  {
   "cell_type": "code",
   "execution_count": 129,
   "metadata": {},
   "outputs": [],
   "source": [
    "bar_color = '#e5cbb7'\n",
    "bars = ['95% ms', '98% ms', '99% ms']"
   ]
  },
  {
   "cell_type": "code",
   "execution_count": 143,
   "metadata": {},
   "outputs": [
    {
     "data": {
      "text/html": [
       "<style  type=\"text/css\" >\n",
       "</style>  \n",
       "<table id=\"T_a988f532_8b30_11e8_a5c9_001e84539407\" > \n",
       "<thead>    <tr> \n",
       "        <th class=\"index_name level0\" >level_1</th> \n",
       "        <th class=\"col_heading level0 col0\" >exp_name</th> \n",
       "        <th class=\"col_heading level0 col1\" >rps</th> \n",
       "        <th class=\"col_heading level0 col2\" >95% ms</th> \n",
       "        <th class=\"col_heading level0 col3\" >98% ms</th> \n",
       "        <th class=\"col_heading level0 col4\" >99% ms</th> \n",
       "    </tr></thead> \n",
       "<tbody></tbody> \n",
       "</table> "
      ],
      "text/plain": [
       "<pandas.io.formats.style.Styler at 0x7fd240727f60>"
      ]
     },
     "execution_count": 143,
     "metadata": {},
     "output_type": "execute_result"
    }
   ],
   "source": [
    "res = results(lats)\n",
    "res = res[~res.exp_name.str.contains('hard_work')]\n",
    "res.style.bar(subset=bars, color=bar_color)"
   ]
  },
  {
   "cell_type": "code",
   "execution_count": 145,
   "metadata": {},
   "outputs": [
    {
     "data": {
      "text/html": [
       "<style  type=\"text/css\" >\n",
       "</style>  \n",
       "<table id=\"T_bc022648_8b30_11e8_a5c9_001e84539407\" > \n",
       "<thead>    <tr> \n",
       "        <th class=\"index_name level0\" >level_1</th> \n",
       "        <th class=\"col_heading level0 col0\" >exp_name</th> \n",
       "        <th class=\"col_heading level0 col1\" >rps</th> \n",
       "        <th class=\"col_heading level0 col2\" >95% ms</th> \n",
       "        <th class=\"col_heading level0 col3\" >98% ms</th> \n",
       "        <th class=\"col_heading level0 col4\" >99% ms</th> \n",
       "    </tr></thead> \n",
       "<tbody></tbody> \n",
       "</table> "
      ],
      "text/plain": [
       "<pandas.io.formats.style.Styler at 0x7fd23bd37d30>"
      ]
     },
     "execution_count": 145,
     "metadata": {},
     "output_type": "execute_result"
    }
   ],
   "source": [
    "res = results(lats)\n",
    "res = res[~res.exp_name.str.contains('hard_work') & res.exp_name.str.contains('tornado')]\n",
    "res.style.bar(subset=bars, color=bar_color)"
   ]
  },
  {
   "cell_type": "code",
   "execution_count": 146,
   "metadata": {},
   "outputs": [
    {
     "data": {
      "text/html": [
       "<style  type=\"text/css\" >\n",
       "</style>  \n",
       "<table id=\"T_bc906746_8b30_11e8_a5c9_001e84539407\" > \n",
       "<thead>    <tr> \n",
       "        <th class=\"index_name level0\" >level_1</th> \n",
       "        <th class=\"col_heading level0 col0\" >exp_name</th> \n",
       "        <th class=\"col_heading level0 col1\" >rps</th> \n",
       "        <th class=\"col_heading level0 col2\" >95% ms</th> \n",
       "        <th class=\"col_heading level0 col3\" >98% ms</th> \n",
       "        <th class=\"col_heading level0 col4\" >99% ms</th> \n",
       "    </tr></thead> \n",
       "<tbody></tbody> \n",
       "</table> "
      ],
      "text/plain": [
       "<pandas.io.formats.style.Styler at 0x7fd240727550>"
      ]
     },
     "execution_count": 146,
     "metadata": {},
     "output_type": "execute_result"
    }
   ],
   "source": [
    "res = results(lats)\n",
    "res = res[~res.exp_name.str.contains('hard_work') & res.exp_name.str.contains('aiohttp')]\n",
    "res.style.bar(subset=bars, color=bar_color)"
   ]
  },
  {
   "cell_type": "code",
   "execution_count": 147,
   "metadata": {},
   "outputs": [
    {
     "data": {
      "text/html": [
       "<style  type=\"text/css\" >\n",
       "    #T_bd1dab88_8b30_11e8_a5c9_001e84539407row0_col2 {\n",
       "            width:  10em;\n",
       "             height:  80%;\n",
       "        }    #T_bd1dab88_8b30_11e8_a5c9_001e84539407row0_col3 {\n",
       "            width:  10em;\n",
       "             height:  80%;\n",
       "        }    #T_bd1dab88_8b30_11e8_a5c9_001e84539407row0_col4 {\n",
       "            width:  10em;\n",
       "             height:  80%;\n",
       "        }    #T_bd1dab88_8b30_11e8_a5c9_001e84539407row1_col2 {\n",
       "            width:  10em;\n",
       "             height:  80%;\n",
       "            background:  linear-gradient(90deg,#e5cbb7 100.0%, transparent 0%);\n",
       "        }    #T_bd1dab88_8b30_11e8_a5c9_001e84539407row1_col3 {\n",
       "            width:  10em;\n",
       "             height:  80%;\n",
       "            background:  linear-gradient(90deg,#e5cbb7 100.0%, transparent 0%);\n",
       "        }    #T_bd1dab88_8b30_11e8_a5c9_001e84539407row1_col4 {\n",
       "            width:  10em;\n",
       "             height:  80%;\n",
       "            background:  linear-gradient(90deg,#e5cbb7 100.0%, transparent 0%);\n",
       "        }</style>  \n",
       "<table id=\"T_bd1dab88_8b30_11e8_a5c9_001e84539407\" > \n",
       "<thead>    <tr> \n",
       "        <th class=\"index_name level0\" >level_1</th> \n",
       "        <th class=\"col_heading level0 col0\" >exp_name</th> \n",
       "        <th class=\"col_heading level0 col1\" >rps</th> \n",
       "        <th class=\"col_heading level0 col2\" >95% ms</th> \n",
       "        <th class=\"col_heading level0 col3\" >98% ms</th> \n",
       "        <th class=\"col_heading level0 col4\" >99% ms</th> \n",
       "    </tr></thead> \n",
       "<tbody>    <tr> \n",
       "        <th id=\"T_bd1dab88_8b30_11e8_a5c9_001e84539407level0_row0\" class=\"row_heading level0 row0\" >0</th> \n",
       "        <td id=\"T_bd1dab88_8b30_11e8_a5c9_001e84539407row0_col0\" class=\"data row0 col0\" >tornado_hard_work_uvloop</td> \n",
       "        <td id=\"T_bd1dab88_8b30_11e8_a5c9_001e84539407row0_col1\" class=\"data row0 col1\" >1200</td> \n",
       "        <td id=\"T_bd1dab88_8b30_11e8_a5c9_001e84539407row0_col2\" class=\"data row0 col2\" >127.98</td> \n",
       "        <td id=\"T_bd1dab88_8b30_11e8_a5c9_001e84539407row0_col3\" class=\"data row0 col3\" >130.56</td> \n",
       "        <td id=\"T_bd1dab88_8b30_11e8_a5c9_001e84539407row0_col4\" class=\"data row0 col4\" >132.28</td> \n",
       "    </tr>    <tr> \n",
       "        <th id=\"T_bd1dab88_8b30_11e8_a5c9_001e84539407level0_row1\" class=\"row_heading level0 row1\" >1</th> \n",
       "        <td id=\"T_bd1dab88_8b30_11e8_a5c9_001e84539407row1_col0\" class=\"data row1 col0\" >aiohttp_uvloop_hard_work</td> \n",
       "        <td id=\"T_bd1dab88_8b30_11e8_a5c9_001e84539407row1_col1\" class=\"data row1 col1\" >2500</td> \n",
       "        <td id=\"T_bd1dab88_8b30_11e8_a5c9_001e84539407row1_col2\" class=\"data row1 col2\" >133.6</td> \n",
       "        <td id=\"T_bd1dab88_8b30_11e8_a5c9_001e84539407row1_col3\" class=\"data row1 col3\" >139.3</td> \n",
       "        <td id=\"T_bd1dab88_8b30_11e8_a5c9_001e84539407row1_col4\" class=\"data row1 col4\" >145.46</td> \n",
       "    </tr></tbody> \n",
       "</table> "
      ],
      "text/plain": [
       "<pandas.io.formats.style.Styler at 0x7fd23bda1518>"
      ]
     },
     "execution_count": 147,
     "metadata": {},
     "output_type": "execute_result"
    }
   ],
   "source": [
    "res = results(lats)\n",
    "res = res[res.exp_name.str.contains('hard_work')]\n",
    "res.style.bar(subset=bars, color=bar_color)"
   ]
  },
  {
   "cell_type": "code",
   "execution_count": 148,
   "metadata": {},
   "outputs": [],
   "source": [
    "# mean cpu time of process"
   ]
  },
  {
   "cell_type": "code",
   "execution_count": 149,
   "metadata": {},
   "outputs": [
    {
     "name": "stderr",
     "output_type": "stream",
     "text": [
      "/home/dkhodakov/.pyenv/versions/3.6.5/envs/avio/lib/python3.6/site-packages/pandas/io/formats/style.py:960: RuntimeWarning: divide by zero encountered in double_scalars\n",
      "  zero_normed = width * (0 - s.min()) / (s.max() - s.min())\n"
     ]
    },
    {
     "data": {
      "text/html": [
       "<style  type=\"text/css\" >\n",
       "    #T_bded9ca8_8b30_11e8_a5c9_001e84539407row0_col2 {\n",
       "            width:  10em;\n",
       "             height:  80%;\n",
       "        }    #T_bded9ca8_8b30_11e8_a5c9_001e84539407row0_col3 {\n",
       "            width:  10em;\n",
       "             height:  80%;\n",
       "        }    #T_bded9ca8_8b30_11e8_a5c9_001e84539407row0_col4 {\n",
       "            width:  10em;\n",
       "             height:  80%;\n",
       "        }</style>  \n",
       "<table id=\"T_bded9ca8_8b30_11e8_a5c9_001e84539407\" > \n",
       "<thead>    <tr> \n",
       "        <th class=\"index_name level0\" >level_1</th> \n",
       "        <th class=\"col_heading level0 col0\" >exp_name</th> \n",
       "        <th class=\"col_heading level0 col1\" >rps</th> \n",
       "        <th class=\"col_heading level0 col2\" >95% ms</th> \n",
       "        <th class=\"col_heading level0 col3\" >98% ms</th> \n",
       "        <th class=\"col_heading level0 col4\" >99% ms</th> \n",
       "    </tr></thead> \n",
       "<tbody>    <tr> \n",
       "        <th id=\"T_bded9ca8_8b30_11e8_a5c9_001e84539407level0_row0\" class=\"row_heading level0 row0\" >1</th> \n",
       "        <td id=\"T_bded9ca8_8b30_11e8_a5c9_001e84539407row0_col0\" class=\"data row0 col0\" >aiohttp_uvloop_hard_work</td> \n",
       "        <td id=\"T_bded9ca8_8b30_11e8_a5c9_001e84539407row0_col1\" class=\"data row0 col1\" >2500</td> \n",
       "        <td id=\"T_bded9ca8_8b30_11e8_a5c9_001e84539407row0_col2\" class=\"data row0 col2\" >133.6</td> \n",
       "        <td id=\"T_bded9ca8_8b30_11e8_a5c9_001e84539407row0_col3\" class=\"data row0 col3\" >139.3</td> \n",
       "        <td id=\"T_bded9ca8_8b30_11e8_a5c9_001e84539407row0_col4\" class=\"data row0 col4\" >145.46</td> \n",
       "    </tr></tbody> \n",
       "</table> "
      ],
      "text/plain": [
       "<pandas.io.formats.style.Styler at 0x7fd23bc6dfd0>"
      ]
     },
     "execution_count": 149,
     "metadata": {},
     "output_type": "execute_result"
    }
   ],
   "source": [
    "res = results(lats)\n",
    "res = res[res.exp_name.str.contains('hard_work') & res.exp_name.str.contains('aiohttp')]\n",
    "res.style.bar(subset=bars, color=bar_color)"
   ]
  },
  {
   "cell_type": "code",
   "execution_count": 138,
   "metadata": {},
   "outputs": [
    {
     "data": {
      "text/html": [
       "<style  type=\"text/css\" >\n",
       "    #T_bcfbf7c8_8b2a_11e8_a5c9_001e84539407row0_col2 {\n",
       "            width:  10em;\n",
       "             height:  80%;\n",
       "        }    #T_bcfbf7c8_8b2a_11e8_a5c9_001e84539407row0_col3 {\n",
       "            width:  10em;\n",
       "             height:  80%;\n",
       "        }    #T_bcfbf7c8_8b2a_11e8_a5c9_001e84539407row0_col4 {\n",
       "            width:  10em;\n",
       "             height:  80%;\n",
       "        }    #T_bcfbf7c8_8b2a_11e8_a5c9_001e84539407row1_col2 {\n",
       "            width:  10em;\n",
       "             height:  80%;\n",
       "            background:  linear-gradient(90deg,#e5cbb7 91.9%, transparent 0%);\n",
       "        }    #T_bcfbf7c8_8b2a_11e8_a5c9_001e84539407row1_col3 {\n",
       "            width:  10em;\n",
       "             height:  80%;\n",
       "            background:  linear-gradient(90deg,#e5cbb7 89.2%, transparent 0%);\n",
       "        }    #T_bcfbf7c8_8b2a_11e8_a5c9_001e84539407row1_col4 {\n",
       "            width:  10em;\n",
       "             height:  80%;\n",
       "            background:  linear-gradient(90deg,#e5cbb7 88.4%, transparent 0%);\n",
       "        }    #T_bcfbf7c8_8b2a_11e8_a5c9_001e84539407row2_col2 {\n",
       "            width:  10em;\n",
       "             height:  80%;\n",
       "            background:  linear-gradient(90deg,#e5cbb7 100.0%, transparent 0%);\n",
       "        }    #T_bcfbf7c8_8b2a_11e8_a5c9_001e84539407row2_col3 {\n",
       "            width:  10em;\n",
       "             height:  80%;\n",
       "            background:  linear-gradient(90deg,#e5cbb7 100.0%, transparent 0%);\n",
       "        }    #T_bcfbf7c8_8b2a_11e8_a5c9_001e84539407row2_col4 {\n",
       "            width:  10em;\n",
       "             height:  80%;\n",
       "            background:  linear-gradient(90deg,#e5cbb7 100.0%, transparent 0%);\n",
       "        }</style>  \n",
       "<table id=\"T_bcfbf7c8_8b2a_11e8_a5c9_001e84539407\" > \n",
       "<thead>    <tr> \n",
       "        <th class=\"index_name level0\" >level_1</th> \n",
       "        <th class=\"col_heading level0 col0\" >exp_name</th> \n",
       "        <th class=\"col_heading level0 col1\" >rps</th> \n",
       "        <th class=\"col_heading level0 col2\" >95% ms</th> \n",
       "        <th class=\"col_heading level0 col3\" >98% ms</th> \n",
       "        <th class=\"col_heading level0 col4\" >99% ms</th> \n",
       "    </tr></thead> \n",
       "<tbody>    <tr> \n",
       "        <th id=\"T_bcfbf7c8_8b2a_11e8_a5c9_001e84539407level0_row0\" class=\"row_heading level0 row0\" >9</th> \n",
       "        <td id=\"T_bcfbf7c8_8b2a_11e8_a5c9_001e84539407row0_col0\" class=\"data row0 col0\" >tornado_hard_work</td> \n",
       "        <td id=\"T_bcfbf7c8_8b2a_11e8_a5c9_001e84539407row0_col1\" class=\"data row0 col1\" >1000</td> \n",
       "        <td id=\"T_bcfbf7c8_8b2a_11e8_a5c9_001e84539407row0_col2\" class=\"data row0 col2\" >132.47</td> \n",
       "        <td id=\"T_bcfbf7c8_8b2a_11e8_a5c9_001e84539407row0_col3\" class=\"data row0 col3\" >133.97</td> \n",
       "        <td id=\"T_bcfbf7c8_8b2a_11e8_a5c9_001e84539407row0_col4\" class=\"data row0 col4\" >135.13</td> \n",
       "    </tr>    <tr> \n",
       "        <th id=\"T_bcfbf7c8_8b2a_11e8_a5c9_001e84539407level0_row1\" class=\"row_heading level0 row1\" >12</th> \n",
       "        <td id=\"T_bcfbf7c8_8b2a_11e8_a5c9_001e84539407row1_col0\" class=\"data row1 col0\" >tornado_hard_work</td> \n",
       "        <td id=\"T_bcfbf7c8_8b2a_11e8_a5c9_001e84539407row1_col1\" class=\"data row1 col1\" >1200</td> \n",
       "        <td id=\"T_bcfbf7c8_8b2a_11e8_a5c9_001e84539407row1_col2\" class=\"data row1 col2\" >175.47</td> \n",
       "        <td id=\"T_bcfbf7c8_8b2a_11e8_a5c9_001e84539407row1_col3\" class=\"data row1 col3\" >179.93</td> \n",
       "        <td id=\"T_bcfbf7c8_8b2a_11e8_a5c9_001e84539407row1_col4\" class=\"data row1 col4\" >182.7</td> \n",
       "    </tr>    <tr> \n",
       "        <th id=\"T_bcfbf7c8_8b2a_11e8_a5c9_001e84539407level0_row2\" class=\"row_heading level0 row2\" >13</th> \n",
       "        <td id=\"T_bcfbf7c8_8b2a_11e8_a5c9_001e84539407row2_col0\" class=\"data row2 col0\" >tornado_hard_work_oldstyle</td> \n",
       "        <td id=\"T_bcfbf7c8_8b2a_11e8_a5c9_001e84539407row2_col1\" class=\"data row2 col1\" >1000</td> \n",
       "        <td id=\"T_bcfbf7c8_8b2a_11e8_a5c9_001e84539407row2_col2\" class=\"data row2 col2\" >179.27</td> \n",
       "        <td id=\"T_bcfbf7c8_8b2a_11e8_a5c9_001e84539407row2_col3\" class=\"data row2 col3\" >185.5</td> \n",
       "        <td id=\"T_bcfbf7c8_8b2a_11e8_a5c9_001e84539407row2_col4\" class=\"data row2 col4\" >188.97</td> \n",
       "    </tr></tbody> \n",
       "</table> "
      ],
      "text/plain": [
       "<pandas.io.formats.style.Styler at 0x7fd23bc4c240>"
      ]
     },
     "execution_count": 138,
     "metadata": {},
     "output_type": "execute_result"
    }
   ],
   "source": [
    "res = results(lats)\n",
    "res = res[res.exp_name.str.contains('hard_work') & res.exp_name.str.contains('tornado')]\n",
    "res.style.bar(subset=bars, color=bar_color)"
   ]
  },
  {
   "cell_type": "code",
   "execution_count": null,
   "metadata": {},
   "outputs": [],
   "source": []
  }
 ],
 "metadata": {
  "kernelspec": {
   "display_name": "Python 3",
   "language": "python",
   "name": "python3"
  },
  "language_info": {
   "codemirror_mode": {
    "name": "ipython",
    "version": 3
   },
   "file_extension": ".py",
   "mimetype": "text/x-python",
   "name": "python",
   "nbconvert_exporter": "python",
   "pygments_lexer": "ipython3",
   "version": "3.6.5"
  }
 },
 "nbformat": 4,
 "nbformat_minor": 2
}
